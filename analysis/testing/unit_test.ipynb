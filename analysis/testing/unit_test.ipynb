{
 "cells": [
  {
   "cell_type": "markdown",
   "metadata": {},
   "source": [
    "Unit tests for utils.py, functions used in GLMsingle.ipynb"
   ]
  },
  {
   "cell_type": "code",
   "execution_count": 1,
   "metadata": {},
   "outputs": [],
   "source": [
    "import unittest\n",
    "from utils import get_session_label, process_design, create_design_matrix, mask_info, fit_save_bold, resample, applyxfm, apply_thresh, get_runs_per_session"
   ]
  },
  {
   "cell_type": "code",
   "execution_count": 2,
   "metadata": {},
   "outputs": [],
   "source": [
    "class TestGetSessionLabel(unittest.TestCase):\n",
    "    def test_single_session(self):\n",
    "        self.assertEqual(get_session_label(['ses-01']), 'ses-01')\n",
    "\n",
    "        # Test consecutive sessions\n",
    "        self.assertEqual(get_session_label(['ses-01', 'ses-02']), 'ses-01-02')\n",
    "        self.assertEqual(get_session_label(['ses-01', 'ses-02', 'ses-03']), 'ses-01-03')\n",
    "\n",
    "        # Test non-consecutive sessions\n",
    "        self.assertEqual(get_session_label(['ses-01', 'ses-03']), 'ses-01+03')\n",
    "        self.assertEqual(get_session_label(['ses-01', 'ses-03', 'ses-05']), 'ses-01+03+05')\n",
    "\n",
    "        # Test non-consecutive sessions with gaps\n",
    "        self.assertEqual(get_session_label(['ses-01', 'ses-03', 'ses-05']), 'ses-01+03+05')\n",
    "        self.assertEqual(get_session_label(['ses-01', 'ses-03', 'ses-05']), 'ses-01+03+05')\n",
    "\n",
    "        # Test some consecutive sessions and some non-consecutive sessions\n",
    "        self.assertEqual(get_session_label(['ses-01', 'ses-02', 'ses-04', 'ses-05']), 'ses-01-02+04-05')\n",
    "        self.assertEqual(get_session_label(['ses-01', 'ses-02', 'ses-04', 'ses-05', 'ses-06']), 'ses-01-02+04-06')\n",
    "\n",
    "        # Test non-consecutive sessions with gaps and some consecutive sessions\n",
    "        self.assertEqual(get_session_label(['ses-01', 'ses-03', 'ses-05', 'ses-06', 'ses-08']), 'ses-01+03+05-06+08')"
   ]
  },
  {
   "cell_type": "code",
   "execution_count": 3,
   "metadata": {},
   "outputs": [],
   "source": [
    "# class TestProcessDesign(unittest.TestCase):\n",
    "#     def test_process_design(self):\n",
    "#         # Test with a valid design file\n",
    "#         design_file = 'design.csv'\n",
    "#         data, starts, images, is_new_run = process_design(design_file)\n",
    "#         self.assertEqual(len(data), 10)\n",
    "#         self.assertEqual(len(starts), 10)\n",
    "#         self.assertEqual(len(images), 10)\n",
    "#         self.assertEqual(len(is_new_run), 10)\n",
    "\n",
    "#         # Test with an empty design file\n",
    "#         design_file = 'empty_design.csv'\n",
    "#         data, starts, images, is_new_run = process_design(design_file)\n",
    "        \n",
    "#         # Test with a design file that has no runs\n",
    "#         design_file = 'no_runs_design.csv'\n",
    "#         data, starts, images, is_new_run = process_design(design_file)\n",
    "#         self.assertEqual(len(data), 0)\n",
    "#         self.assertEqual(len(starts), 0)\n",
    "#         self.assertEqual(len(images), 0)\n",
    "#         self.assertEqual(len(is_new_run), 0)\n",
    "\n",
    "#         # Test with missing runs\n",
    "#         design_file = 'missing_runs_design.csv'\n",
    "#         data, starts, images, is_new_run = process_design(design_file)\n",
    "#         self.assertEqual(len(data), 0)\n",
    "#         self.assertEqual(len(starts), 0)\n",
    "#         self.assertEqual(len(images), 0)\n",
    "#         self.assertEqual(len(is_new_run), 0)\n"
   ]
  },
  {
   "cell_type": "code",
   "execution_count": 4,
   "metadata": {},
   "outputs": [],
   "source": [
    "class TestGetRunsPerSession(unittest.TestCase):\n",
    "    def test_single_session(self):\n",
    "        self.assertEqual(get_runs_per_session('sub-001', 'ses-01'), (16, {'ses-01': 16}))\n",
    "        self.assertEqual(get_runs_per_session('sub-001', 'ses-02'), (16, {'ses-02': 16}))\n",
    "        self.assertEqual(get_runs_per_session('sub-001', 'ses-05'), (5, {'ses-05': 5}))\n",
    "        self.assertEqual(get_runs_per_session('sub-005', 'ses-03'), (11, {'ses-03': 11}))\n",
    "\n",
    "    def test_multiple_sessions(self):\n",
    "        self.assertEqual(get_runs_per_session('sub-001', 'all', ['ses-02', 'ses-03']), (32, {'ses-02': 16, 'ses-03': 16}))\n",
    "        self.assertEqual(get_runs_per_session('sub-001', 'all', ['ses-01', 'ses-03']), (32, {'ses-01': 16, 'ses-03': 16}))\n",
    "        self.assertEqual(get_runs_per_session('sub-001', 'all', ['ses-01', 'ses-02']), (32, {'ses-01': 16, 'ses-02': 16}))\n",
    "        self.assertEqual(get_runs_per_session('sub-005', 'all', ['ses-01', 'ses-02', 'ses-03']), (33, {'ses-01': 11, 'ses-02': 11, 'ses-03': 11}))\n",
    "        self.assertEqual(get_runs_per_session('sub-006', 'all', ['ses-01', 'ses-02', 'ses-03']), (15, {'ses-01': 5, 'ses-02': 5, 'ses-03': 5}))"
   ]
  },
  {
   "cell_type": "code",
   "execution_count": 5,
   "metadata": {},
   "outputs": [
    {
     "name": "stderr",
     "output_type": "stream",
     "text": [
      "test_multiple_sessions (__main__.TestGetRunsPerSession) ... ok\n",
      "test_single_session (__main__.TestGetRunsPerSession) ... ok\n",
      "test_single_session (__main__.TestGetSessionLabel) ... ok\n",
      "\n",
      "----------------------------------------------------------------------\n",
      "Ran 3 tests in 0.005s\n",
      "\n",
      "OK\n"
     ]
    },
    {
     "data": {
      "text/plain": [
       "<unittest.main.TestProgram at 0x7f45a6618a60>"
      ]
     },
     "execution_count": 5,
     "metadata": {},
     "output_type": "execute_result"
    }
   ],
   "source": [
    "# run test in jupyter notebook\n",
    "unittest.main(argv=[''], verbosity=2, exit=False)"
   ]
  },
  {
   "cell_type": "code",
   "execution_count": null,
   "metadata": {},
   "outputs": [],
   "source": []
  }
 ],
 "metadata": {
  "kernelspec": {
   "display_name": "Python (fmri)",
   "language": "python",
   "name": "fmri"
  },
  "language_info": {
   "codemirror_mode": {
    "name": "ipython",
    "version": 3
   },
   "file_extension": ".py",
   "mimetype": "text/x-python",
   "name": "python",
   "nbconvert_exporter": "python",
   "pygments_lexer": "ipython3",
   "version": "3.9.21"
  }
 },
 "nbformat": 4,
 "nbformat_minor": 2
}
