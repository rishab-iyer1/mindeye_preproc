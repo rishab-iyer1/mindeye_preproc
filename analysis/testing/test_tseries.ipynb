{
 "cells": [
  {
   "cell_type": "code",
   "execution_count": 3,
   "id": "e6c7c066-e284-4863-bdf0-251a84f9ef6d",
   "metadata": {},
   "outputs": [],
   "source": [
    "import numpy as np"
   ]
  },
  {
   "cell_type": "code",
   "execution_count": 92,
   "id": "1007947b-ed7f-43e8-b756-ae904c75a451",
   "metadata": {},
   "outputs": [
    {
     "name": "stdout",
     "output_type": "stream",
     "text": [
      "[list([1, 2, 3]) list([4, 5])]\n"
     ]
    },
    {
     "data": {
      "text/plain": [
       "([1, 2, 3, 4, 5], 3)"
      ]
     },
     "execution_count": 92,
     "metadata": {},
     "output_type": "execute_result"
    }
   ],
   "source": [
    "chunk_length=2\n",
    "chunknum=1\n",
    "vect = np.empty((2,), dtype=object)\n",
    "vect[0] = [1, 2, 3]\n",
    "vect[1] = [4, 5]\n",
    "print(vect)\n",
    "\n",
    "list(np.arange(5)+1),3  # should be = ([1, 2, 3], [4, 5])\n",
    "\n",
    "# assert(np.all(chunking(list(np.arange(5)+1),3)==a))\n",
    "# assert(chunking([4, 2, 3], 2, 2)==([3], 3, 3))\n"
   ]
  },
  {
   "cell_type": "code",
   "execution_count": 42,
   "id": "a7229b23-85a9-432a-9fe9-c08c3b945946",
   "metadata": {},
   "outputs": [
    {
     "name": "stdout",
     "output_type": "stream",
     "text": [
      "5\n"
     ]
    }
   ],
   "source": [
    "# n_elements = 0\n",
    "# for i in range(len(vect)):\n",
    "#     n_elements += len(vect[i])\n",
    "\n",
    "# print(n_elements)"
   ]
  },
  {
   "cell_type": "code",
   "execution_count": 72,
   "id": "2c690b76-9acd-445b-b493-b433fe6b533a",
   "metadata": {},
   "outputs": [
    {
     "name": "stdout",
     "output_type": "stream",
     "text": [
      "[list([1, 2, 3]) list([4, 5])]\n",
      "[1 2 3 4 5]\n",
      "0\n",
      "[array([1])]\n",
      "1\n",
      "[array([1]), array([2])]\n",
      "2\n",
      "[array([1]), array([2]), array([3])]\n",
      "3\n",
      "[array([1]), array([2]), array([3]), array([4])]\n",
      "4\n",
      "[array([1]), array([2]), array([3]), array([4]), array([5])]\n"
     ]
    }
   ],
   "source": [
    "# new_vect = np.hstack(vect)\n",
    "# chunked = []\n",
    "# for i in range(len(new_vect)):\n",
    "#     a = new_vect[i*chunk_length:i*chunk_length+chunk_length]\n",
    "#     if len(a) > 0:\n",
    "#         chunked.append(a)\n",
    "\n"
   ]
  },
  {
   "cell_type": "code",
   "execution_count": 89,
   "id": "4f573c87-0a53-420a-9c57-ba1a21571173",
   "metadata": {},
   "outputs": [
    {
     "name": "stdout",
     "output_type": "stream",
     "text": [
      "[array([1, 2]), array([3, 4]), array([5])] <class 'list'>\n",
      "[array([1, 2]) array([3, 4]) array([5])] <class 'numpy.ndarray'>\n"
     ]
    }
   ],
   "source": [
    "print(chunked, type(chunked))\n",
    "test = np.asarray(chunked, dtype=object)\n",
    "print(test, type(test))"
   ]
  },
  {
   "cell_type": "code",
   "execution_count": 95,
   "id": "c1473498-bdc7-449b-83eb-7a83fc53e001",
   "metadata": {},
   "outputs": [],
   "source": [
    "def chunking(vect, num, chunknum=None):\n",
    "    \"\"\" chunking\n",
    "    Input:\n",
    "        <vect> is a array\n",
    "        <num> is desired length of a chunk\n",
    "        <chunknum> is chunk number desired (here we use a 1-based\n",
    "              indexing, i.e. you may want the first chunk, or the second\n",
    "              chunk, but not the zeroth chunk)\n",
    "    Returns:\n",
    "        [numpy array object]:\n",
    "\n",
    "        return a numpy array object of chunks.  the last vector\n",
    "        may have fewer than <num> elements.\n",
    "\n",
    "        also return the beginning and ending indices associated with\n",
    "        this chunk in <xbegin> and <xend>.\n",
    "\n",
    "    Examples:\n",
    "\n",
    "        a = np.empty((2,), dtype=np.object)\n",
    "        a[0] = [1, 2, 3]\n",
    "        a[1] = [4, 5]\n",
    "        assert(np.all(chunking(list(np.arange(5)+1),3)==a))\n",
    "\n",
    "        assert(chunking([4, 2, 3], 2, 2)==([3], 3, 3))\n",
    "\n",
    "    \"\"\"\n",
    "    if chunknum is None:\n",
    "        new_vect = np.hstack(vect)\n",
    "        chunked = []\n",
    "        for i in range(len(new_vect)):\n",
    "            a = new_vect[i*chunk_length:i*chunk_length+chunk_length]\n",
    "            if len(a) > 0:\n",
    "                chunked.append(a)\n",
    "        return np.asarray(chunked, dtype=object)\n",
    "    else:\n",
    "        f = chunking(vect, num)\n",
    "        # double check that these behave like in matlab (xbegin)\n",
    "        xbegin = (chunknum-1)*num+1\n",
    "        # double check that these behave like in matlab (xend)\n",
    "        xend = np.min((len(vect), chunknum*num))\n",
    "\n",
    "        return np.asarray(f[num-1]), xbegin, xend\n"
   ]
  },
  {
   "cell_type": "code",
   "execution_count": 96,
   "id": "92826eec-1b30-49c6-b397-4d37cc8e44d1",
   "metadata": {},
   "outputs": [
    {
     "name": "stdout",
     "output_type": "stream",
     "text": [
      "returning (else) [3 4] 1 2\n"
     ]
    }
   ],
   "source": [
    "if chunknum is None:\n",
    "    new_vect = np.hstack(vect)\n",
    "    chunked = []\n",
    "    for i in range(len(new_vect)):\n",
    "        a = new_vect[i*chunk_length:i*chunk_length+chunk_length]\n",
    "        if len(a) > 0:\n",
    "            chunked.append(a)\n",
    "    print('returning (if)', np.asarray(chunked, dtype=object))\n",
    "else:\n",
    "    f = chunking(vect, chunk_length)\n",
    "    # double check that these behave like in matlab (xbegin)\n",
    "    xbegin = (chunknum-1)*chunk_length+1\n",
    "    # double check that these behave like in matlab (xend)\n",
    "    xend = np.min((len(vect), chunknum*chunk_length))\n",
    "\n",
    "    print('returning (else)', np.asarray(f[chunk_length-1]), xbegin, xend)"
   ]
  }
 ],
 "metadata": {
  "kernelspec": {
   "display_name": "fmri",
   "language": "python",
   "name": "fmri"
  },
  "language_info": {
   "codemirror_mode": {
    "name": "ipython",
    "version": 3
   },
   "file_extension": ".py",
   "mimetype": "text/x-python",
   "name": "python",
   "nbconvert_exporter": "python",
   "pygments_lexer": "ipython3",
   "version": "3.9.18"
  }
 },
 "nbformat": 4,
 "nbformat_minor": 5
}
