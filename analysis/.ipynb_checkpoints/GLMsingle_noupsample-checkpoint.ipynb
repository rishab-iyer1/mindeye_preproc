{
 "cells": [
  {
   "cell_type": "markdown",
   "metadata": {},
   "source": [
    "# GLMsingle: single-trial estimation in rapid event-related design\n",
    "\n",
    "This notebook is my attempt at applying the new GLMsingle toolbox to the SVD dataset. I am starting with the tutorial provided on the GLMsingle GitHub and modifying it for the SVD dataset. (LM)\n",
    "https://htmlpreview.github.io/?https://github.com/kendrickkay/GLMsingle/blob/main/examples/example1.html   \n",
    "\n",
    "By default, the tool implements a set of optimizations that improve upon generic GLM approaches by: (1) identifying an optimal hemodynamic response function (HRF) at each voxel, (2) deriving a set of useful GLM nuisance regressors via \"GLMdenoise\" and picking an optimal number to include in the final GLM, and (3) applying a custom amount of ridge regularization at each voxel using an efficient technique called \"fracridge\". The output of GLMsingle are GLM betas reflecting the estimated percent signal change in each voxel in response to each experimental stimulus or condition being modeled.\n",
    "\n",
    "Example 1 contains a full walkthrough of the process of loading an example dataset and design matrix, estimating neural responses using GLMsingle, estimating the reliability of responses at each voxel, and comparing those achieved via GLMsingle to those achieved using a baseline GLM. After loading and visualizing formatted fMRI time-series and their corresponding design matrices, we will describe the default behavior of GLMsingle and show how to modify hyperparameters if the user desires. Throughout the notebook we will highlight important metrics and outputs using figures, print statements, and comments."
   ]
  },
  {
   "cell_type": "markdown",
   "metadata": {},
   "source": [
    "## A note about conda environments\n",
    "\n",
    "When running this notebook, make sure you have activated the mindeye conda environment."
   ]
  },
  {
   "cell_type": "markdown",
   "metadata": {},
   "source": [
    "## Define settings"
   ]
  },
  {
   "cell_type": "markdown",
   "metadata": {},
   "source": [
    "What subject and session do you want to run? "
   ]
  },
  {
   "cell_type": "code",
   "execution_count": 1,
   "metadata": {
    "scrolled": true
   },
   "outputs": [],
   "source": [
    "sub = 'sub-003'\n",
    "session = 'ses-01'\n",
    "task='study'\n",
    "\n",
    "if sub=='sub-002':\n",
    "    n_runs=9\n",
    "else:\n",
    "    n_runs=16\n",
    "    # n_runs=8"
   ]
  },
  {
   "cell_type": "markdown",
   "metadata": {},
   "source": [
    "##### Do you want to intersect brain masks from each run to create an average mask? If avg_mask already exists, set this to 0."
   ]
  },
  {
   "cell_type": "code",
   "execution_count": 2,
   "metadata": {},
   "outputs": [],
   "source": [
    "make_avg_mask = 1"
   ]
  },
  {
   "cell_type": "markdown",
   "metadata": {},
   "source": [
    "Do you want to load the raw 4D data and run the time-intensive NiftiMasker? \n",
    "If the 2D data already exist, set this to 0."
   ]
  },
  {
   "cell_type": "code",
   "execution_count": 3,
   "metadata": {
    "scrolled": true
   },
   "outputs": [],
   "source": [
    "load_epi = 1"
   ]
  },
  {
   "cell_type": "markdown",
   "metadata": {},
   "source": [
    "##### Do you need to upsample the fMRI data? If the upsampled data already exists, set this to 0."
   ]
  },
  {
   "cell_type": "code",
   "execution_count": 4,
   "metadata": {},
   "outputs": [],
   "source": [
    "run_upsampling = 1"
   ]
  },
  {
   "cell_type": "markdown",
   "metadata": {},
   "source": [
    "Do you want to export design matrix to csv? "
   ]
  },
  {
   "cell_type": "code",
   "execution_count": 5,
   "metadata": {
    "scrolled": true
   },
   "outputs": [],
   "source": [
    "export_csv = 1"
   ]
  },
  {
   "cell_type": "markdown",
   "metadata": {},
   "source": [
    "Do you want to run GLMsingle? If you want to load existing GLMsingle outputs, set this to 0."
   ]
  },
  {
   "cell_type": "code",
   "execution_count": 6,
   "metadata": {
    "scrolled": true
   },
   "outputs": [],
   "source": [
    "run_glmsingle = 1\n",
    "run_glmbaseline = 1"
   ]
  },
  {
   "cell_type": "markdown",
   "metadata": {},
   "source": [
    "Do you want to run reliability calculations?"
   ]
  },
  {
   "cell_type": "code",
   "execution_count": 7,
   "metadata": {
    "scrolled": true
   },
   "outputs": [],
   "source": [
    "run_reliability = 1"
   ]
  },
  {
   "cell_type": "markdown",
   "metadata": {},
   "source": [
    "## Import necessary packages"
   ]
  },
  {
   "cell_type": "code",
   "execution_count": 8,
   "metadata": {
    "scrolled": true,
    "tags": []
   },
   "outputs": [],
   "source": [
    "import numpy as np\n",
    "import pandas as pd\n",
    "import nibabel as nib\n",
    "from nibabel import imagestats\n",
    "import nilearn\n",
    "from nilearn.input_data import NiftiMasker\n",
    "from nilearn.masking import intersect_masks\n",
    "from nilearn import image\n",
    "from nilearn.plotting import plot_roi\n",
    "from nilearn.plotting import plot_anat\n",
    "from nilearn.plotting import plot_epi\n",
    "import scipy\n",
    "import scipy.stats as stats\n",
    "import scipy.io as sio\n",
    "import matplotlib.pyplot as plt\n",
    "\n",
    "import os\n",
    "from os.path import join, exists, split\n",
    "import sys\n",
    "import time\n",
    "import urllib.request\n",
    "import copy\n",
    "import warnings\n",
    "from tqdm import tqdm\n",
    "from pprint import pprint\n",
    "warnings.filterwarnings('ignore')\n",
    "import h5py\n",
    "\n",
    "# !pip install git+https://github.com/cvnlab/GLMsingle.git\n",
    "import glmsingle\n",
    "from glmsingle.glmsingle import GLM_single\n",
    "\n",
    "%matplotlib inline\n",
    "# %autosave 5\n",
    "#sns.set(style = 'white', context='poster', rc={\"lines.linewidth\": 2.5})"
   ]
  },
  {
   "cell_type": "markdown",
   "metadata": {},
   "source": [
    "## Set paths and load settings"
   ]
  },
  {
   "cell_type": "code",
   "execution_count": 9,
   "metadata": {
    "scrolled": true
   },
   "outputs": [],
   "source": [
    "example = 0\n",
    "stimdur = 3\n",
    "if sub == 'sub-001' and session == 'ses-01':\n",
    "    tr_orig = 1.8\n",
    "    n_trs = 288\n",
    "else:\n",
    "    tr_orig = 2\n",
    "    n_trs = 280\n",
    "tr = 2 # after upsampling"
   ]
  },
  {
   "cell_type": "code",
   "execution_count": 10,
   "metadata": {},
   "outputs": [
    {
     "name": "stdout",
     "output_type": "stream",
     "text": [
      "directory to load preprocessed data from:\n",
      "\t/jukebox/norman/rsiyer/rtmindeye/data_sub-003_ses-01/bids/derivatives/fmriprep/sub-003\n",
      "\n",
      "directory to save outputs:\n",
      "\t/jukebox/norman/rsiyer/rtmindeye/data_sub-003_ses-01/bids/derivatives/glmsingle_nofithrf/sub-003\n",
      "\n"
     ]
    }
   ],
   "source": [
    "# bids directory\n",
    "if sub == 'sub-003' and session == 'ses-01':\n",
    "    homedir = f'/jukebox/norman/rsiyer/rtmindeye/data_{sub}_{session}/bids'\n",
    "elif sub == 'sub-001' and session == 'ses-01':\n",
    "    homedir = f'/jukebox/norman/rsiyer/rtmindeye/data_sub-001_sub_002_ses-01/bids'\n",
    "else:\n",
    "    raise Exception\n",
    "\n",
    "# datadir is fmriprep folder for this subject, outputdir is glmsingle derivatives\n",
    "datadir = join(homedir,'derivatives','fmriprep',sub)\n",
    "maskdir = join(homedir,'derivatives','masks', sub)\n",
    "designdir = join(homedir, '../design/')\n",
    "# outputdir = join(homedir,'derivatives','glmsingle/')\n",
    "outputdir = join(homedir,'derivatives','glmsingle_noupsample/')\n",
    "func_dir = join(datadir,f'{session}','func/')\n",
    "defaced_dir = join(homedir,'derivatives','deface/')\n",
    "savedir = f'{outputdir}/{sub}/'  # where to save voxel reliabilities\n",
    "\n",
    "\n",
    "# make a directory for this subject\n",
    "path = os.path.join(outputdir,sub)\n",
    "os.makedirs(path,exist_ok=True)\n",
    "os.makedirs(maskdir,exist_ok=True)\n",
    "\n",
    "print(f'directory to load preprocessed data from:\\n\\t{datadir}\\n', flush=True)\n",
    "print(f'directory to save outputs:\\n\\t{path}\\n', flush=True)"
   ]
  },
  {
   "cell_type": "markdown",
   "metadata": {},
   "source": [
    "I ran into an issue because of my small voxels, I have more than 1,000,000 \"voxels\" in my brain images (including voxels outside the brain).\n",
    "\n",
    "I'm going to use NiftiMasker to apply the average brain mask to data, then instead of passing 4D (XYZT) images to data array, pass 2D (units x time) to data array."
   ]
  },
  {
   "cell_type": "markdown",
   "metadata": {},
   "source": [
    "## Load this subject's design matrix\n",
    "design is in the format design[run] rows are timepoints, columns are distinct images"
   ]
  },
  {
   "cell_type": "code",
   "execution_count": 11,
   "metadata": {},
   "outputs": [
    {
     "name": "stdout",
     "output_type": "stream",
     "text": [
      "/jukebox/norman/rsiyer/rtmindeye/data_sub-003_ses-01/bids/../design/csv/sub-003_ses-01.csv\n",
      "len_unique_images 851\n",
      "n_runs 16\n",
      "['all_stimuli/rtmindeye_stimuli/image_686_seed_1.png'\n",
      " 'all_stimuli/rtmindeye_stimuli/image_262_seed_1.png'\n",
      " 'all_stimuli/rtmindeye_stimuli/image_508_seed_1.png'\n",
      " 'all_stimuli/rtmindeye_stimuli/image_671_seed_1.png']\n",
      "[596.70813508 600.71900325 604.72332096 608.734187  ]\n",
      "[0. 0. 0. 0.]\n"
     ]
    }
   ],
   "source": [
    "if (sub=='sub-001' and session=='ses-01') or (sub=='sub-002' and session=='ses-01'):\n",
    "    filename = f\"{designdir}csv/{sub}_{session}.csv\"\n",
    "    data = pd.read_csv(filename)\n",
    "    images = data['current_image'].values[23:]\n",
    "    starts = data['trial.started'].values[23:]\n",
    "    is_new_run = data['is_new_run'].values[23:]\n",
    "elif (sub=='sub-001' and session in ('ses-02', 'ses-03', 'ses-04')) or sub=='sub-003':\n",
    "    filename = f\"{designdir}csv/{sub}_{session}.csv\"\n",
    "    data = pd.read_csv(filename)\n",
    "    data = data.dropna(subset=['current_image'])  # in these csv files, there are blanks between runs\n",
    "    starts = data['trial.started'].values[10:]\n",
    "    images = data['current_image'].values[10:]\n",
    "    is_new_run = data['is_new_run'].values[10:]\n",
    "    \n",
    "else:\n",
    "    raise Exception(\"undefined subject and/or session\")\n",
    "print(filename)\n",
    "\n",
    "unique_images = np.unique(images.astype(str))\n",
    "len_unique_images = len(unique_images)\n",
    "print(\"len_unique_images\",len_unique_images)\n",
    "print(\"n_runs\",n_runs)\n",
    "\n",
    "print(images[:4])\n",
    "print(starts[:4])\n",
    "print(is_new_run[:4])\n",
    "\n",
    "# assert len(images[images!=\"blank.jpg\"]) == 1008\n",
    "# assert len(np.unique(images[images!=\"blank.jpg\"])) == 708"
   ]
  },
  {
   "cell_type": "code",
   "execution_count": 12,
   "metadata": {},
   "outputs": [],
   "source": [
    "# print(len(images)), [print(im.split('/')[-1]) for im in images]"
   ]
  },
  {
   "cell_type": "code",
   "execution_count": 13,
   "metadata": {},
   "outputs": [],
   "source": [
    "design = [np.zeros((n_trs, len_unique_images)) for _ in range(n_runs)]\n",
    "starting_time = starts[0]\n",
    "cur_run = 0\n",
    "first_trial_of_new_run = False\n",
    "# print(f\"run = {cur_run}\")\n",
    "for i in range(len(images)):        \n",
    "    if first_trial_of_new_run: # is the first trial of a new run?\n",
    "        starting_time = starts[i]\n",
    "        cur_run += 1\n",
    "        # print(f\"run = {cur_run}\")\n",
    "        first_trial_of_new_run = False\n",
    "        \n",
    "    if is_new_run[i] == 1: # is this the last trial of the run?\n",
    "        first_trial_of_new_run = True\n",
    "    \n",
    "    if images[i] == \"blank.jpg\":\n",
    "        continue\n",
    "\n",
    "    image_idx = np.where(str(images[i])==unique_images)[0].item()\n",
    "    timepoint = int(np.round(starts[i] - starting_time))\n",
    "    design[cur_run][timepoint, image_idx] = 1\n",
    "\n",
    "    # if i < 10:\n",
    "    #     print(image_idx, timepoint)\n",
    "\n",
    "# design = list(np.array(design)[:, :, :-2])  # remove the last two regressors: blank.jpg and nan"
   ]
  },
  {
   "cell_type": "code",
   "execution_count": 14,
   "metadata": {},
   "outputs": [],
   "source": [
    "# np.where(str(images[5])==unique_images)[0].item()"
   ]
  },
  {
   "cell_type": "code",
   "execution_count": 15,
   "metadata": {},
   "outputs": [],
   "source": [
    "# [print(im.split('/')[-1]) for im in unique_images]"
   ]
  },
  {
   "cell_type": "code",
   "execution_count": 16,
   "metadata": {},
   "outputs": [],
   "source": [
    "# test = np.array(design)\n",
    "# test.shape, np.sum(np.sum(test, axis=0), axis=0).shape  # np.sum(np.sum(test, axis=0), axis=0), np.where(np.sum(np.sum(test, axis=0), axis=0) == 0)\n",
    "# # design"
   ]
  },
  {
   "cell_type": "code",
   "execution_count": 17,
   "metadata": {},
   "outputs": [],
   "source": [
    "# # what are the first 10 images shown?\n",
    "# print(images[:10])\n",
    "\n",
    "# # what condition in the design matrix do these correspond with?\n",
    "# first10 = [np.where(im == unique_images)[0].item() for im in images[:10]]\n",
    "# print(first10)\n",
    "\n",
    "# # at what timepoint did these appear?\n",
    "# np.where(test[:, :, first10])"
   ]
  },
  {
   "cell_type": "code",
   "execution_count": 18,
   "metadata": {},
   "outputs": [],
   "source": [
    "# np.array(np.where(test[:,:,:10]))"
   ]
  },
  {
   "cell_type": "code",
   "execution_count": 19,
   "metadata": {},
   "outputs": [
    {
     "data": {
      "text/plain": [
       "Text(0, 0.5, 'time (TR)')"
      ]
     },
     "execution_count": 19,
     "metadata": {},
     "output_type": "execute_result"
    },
    {
     "data": {
      "image/png": "[encoded data removed]",
      "text/plain": [
       "<Figure size 1600x1600 with 1 Axes>"
      ]
     },
     "metadata": {},
     "output_type": "display_data"
    }
   ],
   "source": [
    "# Plot design matrix for each run\n",
    "run=1\n",
    "plt.figure(figsize=(16,16))\n",
    "plt.imshow(design[run],interpolation='none')\n",
    "plt.title(' design matrix from run %i' %(run+1), fontsize=16)\n",
    "plt.xlabel('conditions',fontsize=16)\n",
    "plt.ylabel('time (TR)',fontsize=16)"
   ]
  },
  {
   "cell_type": "code",
   "execution_count": 20,
   "metadata": {},
   "outputs": [],
   "source": [
    "# design[1][140:181,530:540]"
   ]
  },
  {
   "cell_type": "code",
   "execution_count": 21,
   "metadata": {},
   "outputs": [],
   "source": [
    "# # find conditions that are repeated in the same run\n",
    "# for i in range(16):\n",
    "#     print(np.where(np.sum(design[i], axis=0) > 1))"
   ]
  },
  {
   "cell_type": "code",
   "execution_count": 22,
   "metadata": {},
   "outputs": [],
   "source": [
    "# # find conditions that are repeated across all runs\n",
    "# np.where((np.sum(np.sum(np.array(design), axis=1), axis=0) > 1))"
   ]
  },
  {
   "cell_type": "code",
   "execution_count": 23,
   "metadata": {},
   "outputs": [],
   "source": [
    "# unique_images[535]"
   ]
  },
  {
   "cell_type": "markdown",
   "metadata": {},
   "source": [
    "## Create a brain mask that intersects each run's brain mask from fMRIPrep\n",
    "\n",
    "From GLMSingle FAQ: The safest approach is to completely zero out the data for a voxel that does not have full data for all of the runs that you are analyzing with GLMsingle."
   ]
  },
  {
   "cell_type": "code",
   "execution_count": 24,
   "metadata": {},
   "outputs": [
    {
     "name": "stdout",
     "output_type": "stream",
     "text": [
      "Save average mask: /jukebox/norman/rsiyer/rtmindeye/data_sub-003_ses-01/bids/derivatives/masks/sub-003/sub-003_ses-01_brain.nii.gz\n",
      "\n",
      "Mask dimensions: (1.5, 1.5, 1.5)\n",
      "\n",
      "Affine:\n",
      "[[  1.5          0.           0.         -72.61699677]\n",
      " [  0.           1.5          0.         -79.29003143]\n",
      " [  0.           0.           1.5        -59.4773941 ]\n",
      " [  0.           0.           0.           1.        ]]\n",
      "\n",
      "There are 478003.0 voxels in the included brain mask\n",
      "\n"
     ]
    },
    {
     "data": {
      "image/png": "[encoded data removed]",
      "text/plain": [
       "<Figure size 660x350 with 4 Axes>"
      ]
     },
     "metadata": {},
     "output_type": "display_data"
    }
   ],
   "source": [
    "if make_avg_mask == 1:\n",
    "    mask_imgs=[]\n",
    "    for run in range(1,n_runs+1):\n",
    "        if run < 10:\n",
    "            mask_name = func_dir + sub + '_%s_task-study_run-0%i_space-T1w_desc-brain_mask.nii.gz' % (session, run)\n",
    "        else:\n",
    "            mask_name = func_dir + sub + '_%s_task-study_run-%i_space-T1w_desc-brain_mask.nii.gz' % (session, run)\n",
    "        mask_imgs.append(mask_name)\n",
    "    \n",
    "    # intersect all session 1 brain masks    \n",
    "    avg_mask=intersect_masks(mask_imgs, threshold=0.5, connected=True)\n",
    "\n",
    "    # Save the mask\n",
    "    dimsize=avg_mask.header.get_zooms()\n",
    "    affine_mat = avg_mask.affine\n",
    "    hdr = avg_mask.header  # get a handle for the .nii file's header\n",
    "    hdr.set_zooms((dimsize[0], dimsize[1], dimsize[2]))\n",
    "    output_name = maskdir + '/%s_%s_brain.nii.gz' % (sub, session)\n",
    "    print('Save average mask:', output_name)\n",
    "    nib.save(avg_mask, output_name)\n",
    "    print('')\n",
    "    \n",
    "elif make_avg_mask == 0:\n",
    "    #Load brain mask\n",
    "    file_in = maskdir + '/%s_%s_brain.nii.gz' % (sub, session)\n",
    "    print('Loading average brain mask:', file_in)\n",
    "    print('')\n",
    "    avg_mask=nib.load(file_in)\n",
    "\n",
    "# plot\n",
    "t1_file = defaced_dir + sub + '_%s_T1w_defaced.nii.gz' %session\n",
    "t1_img = image.load_img(t1_file)\n",
    "plot_roi(avg_mask, bg_img=t1_img)\n",
    "\n",
    "# mask info\n",
    "dimsize=avg_mask.header.get_zooms()\n",
    "affine_mat = avg_mask.affine\n",
    "brain=avg_mask.get_fdata()\n",
    "xyz=brain.shape #xyz dimensionality of brain mask and epi data\n",
    "\n",
    "print('Mask dimensions:', dimsize)\n",
    "print('')\n",
    "print('Affine:')\n",
    "print(affine_mat)\n",
    "print('')\n",
    "print(f'There are {np.sum(brain)} voxels in the included brain mask\\n')"
   ]
  },
  {
   "cell_type": "markdown",
   "metadata": {},
   "source": [
    "## Apply mask to each run of functional data\n",
    "Data will go from 4D (x,y,z,t) to 2D"
   ]
  },
  {
   "cell_type": "code",
   "execution_count": 25,
   "metadata": {
    "scrolled": true
   },
   "outputs": [
    {
     "name": "stdout",
     "output_type": "stream",
     "text": [
      "checking epi data for run 1: /jukebox/norman/rsiyer/rtmindeye/data_sub-003_ses-01/bids/derivatives/fmriprep/sub-003/ses-01/func/sub-003_ses-01_task-study_run-01_space-T1w_desc-preproc_bold.nii.gz\n",
      "\n",
      "Dimensions: (1.5, 1.5, 1.5, 2.0)\n",
      "Affine:\n",
      "[[  1.5          0.           0.         -72.61699677]\n",
      " [  0.           1.5          0.         -79.29003143]\n",
      " [  0.           0.           1.5        -59.4773941 ]\n",
      " [  0.           0.           0.           1.        ]]\n",
      "\n",
      "(97, 128, 96)\n",
      "(97, 128, 96, 140)\n"
     ]
    }
   ],
   "source": [
    "# get some info about epi data by loading study run 1\n",
    "epi_file=f\"{datadir}/{session}/func/{sub}_{session}_task-study_run-01_space-T1w_desc-preproc_bold.nii.gz\"\n",
    "epi_data=nib.load(epi_file)\n",
    "run1=epi_data.get_fdata()\n",
    "\n",
    "print('checking epi data for run 1:', epi_file)\n",
    "print('')\n",
    "epi_dimsize=epi_data.header.get_zooms()\n",
    "epi_affine=epi_data.affine\n",
    "print('Dimensions:', epi_dimsize)\n",
    "print('Affine:')\n",
    "print(epi_data.affine)\n",
    "print('')\n",
    "\n",
    "# get shape of data volume (XYZ) for convenience\n",
    "xyz = run1.shape[:3]\n",
    "xyzt = run1.shape\n",
    "print(xyz)\n",
    "print(xyzt)\n",
    "\n",
    "# double check that brain mask and epi data have same dimensions and affine\n",
    "assert avg_mask.header.get_zooms() == epi_dimsize[:3]\n",
    "assert avg_mask.affine.all() == epi_data.affine.all()"
   ]
  },
  {
   "cell_type": "code",
   "execution_count": 26,
   "metadata": {
    "scrolled": true
   },
   "outputs": [
    {
     "name": "stdout",
     "output_type": "stream",
     "text": [
      "loading data for run 1 : /jukebox/norman/rsiyer/rtmindeye/data_sub-003_ses-01/bids/derivatives/fmriprep/sub-003/ses-01/func/sub-003_ses-01_task-study_run-01_space-T1w_desc-preproc_bold.nii.gz\n",
      "\n",
      "BOLD data shape: (478003, 140)\n",
      "TRs in this run: 140\n",
      "\n",
      "*** Saving data to /jukebox/norman/rsiyer/rtmindeye/data_sub-003_ses-01/bids/derivatives/glmsingle_nofithrf/sub-003/sub-003_ses-01_task-study_run-01_2D_bold ***\n",
      "\n",
      "loading data for run 2 : /jukebox/norman/rsiyer/rtmindeye/data_sub-003_ses-01/bids/derivatives/fmriprep/sub-003/ses-01/func/sub-003_ses-01_task-study_run-02_space-T1w_desc-preproc_bold.nii.gz\n",
      "\n",
      "BOLD data shape: (478003, 140)\n",
      "TRs in this run: 140\n",
      "\n",
      "*** Saving data to /jukebox/norman/rsiyer/rtmindeye/data_sub-003_ses-01/bids/derivatives/glmsingle_nofithrf/sub-003/sub-003_ses-01_task-study_run-02_2D_bold ***\n",
      "\n",
      "loading data for run 3 : /jukebox/norman/rsiyer/rtmindeye/data_sub-003_ses-01/bids/derivatives/fmriprep/sub-003/ses-01/func/sub-003_ses-01_task-study_run-03_space-T1w_desc-preproc_bold.nii.gz\n",
      "\n",
      "BOLD data shape: (478003, 140)\n",
      "TRs in this run: 140\n",
      "\n",
      "*** Saving data to /jukebox/norman/rsiyer/rtmindeye/data_sub-003_ses-01/bids/derivatives/glmsingle_nofithrf/sub-003/sub-003_ses-01_task-study_run-03_2D_bold ***\n",
      "\n",
      "loading data for run 4 : /jukebox/norman/rsiyer/rtmindeye/data_sub-003_ses-01/bids/derivatives/fmriprep/sub-003/ses-01/func/sub-003_ses-01_task-study_run-04_space-T1w_desc-preproc_bold.nii.gz\n",
      "\n",
      "BOLD data shape: (478003, 140)\n",
      "TRs in this run: 140\n",
      "\n",
      "*** Saving data to /jukebox/norman/rsiyer/rtmindeye/data_sub-003_ses-01/bids/derivatives/glmsingle_nofithrf/sub-003/sub-003_ses-01_task-study_run-04_2D_bold ***\n",
      "\n",
      "loading data for run 5 : /jukebox/norman/rsiyer/rtmindeye/data_sub-003_ses-01/bids/derivatives/fmriprep/sub-003/ses-01/func/sub-003_ses-01_task-study_run-05_space-T1w_desc-preproc_bold.nii.gz\n",
      "\n",
      "BOLD data shape: (478003, 140)\n",
      "TRs in this run: 140\n",
      "\n",
      "*** Saving data to /jukebox/norman/rsiyer/rtmindeye/data_sub-003_ses-01/bids/derivatives/glmsingle_nofithrf/sub-003/sub-003_ses-01_task-study_run-05_2D_bold ***\n",
      "\n",
      "loading data for run 6 : /jukebox/norman/rsiyer/rtmindeye/data_sub-003_ses-01/bids/derivatives/fmriprep/sub-003/ses-01/func/sub-003_ses-01_task-study_run-06_space-T1w_desc-preproc_bold.nii.gz\n",
      "\n",
      "BOLD data shape: (478003, 140)\n",
      "TRs in this run: 140\n",
      "\n",
      "*** Saving data to /jukebox/norman/rsiyer/rtmindeye/data_sub-003_ses-01/bids/derivatives/glmsingle_nofithrf/sub-003/sub-003_ses-01_task-study_run-06_2D_bold ***\n",
      "\n",
      "loading data for run 7 : /jukebox/norman/rsiyer/rtmindeye/data_sub-003_ses-01/bids/derivatives/fmriprep/sub-003/ses-01/func/sub-003_ses-01_task-study_run-07_space-T1w_desc-preproc_bold.nii.gz\n",
      "\n",
      "BOLD data shape: (478003, 140)\n",
      "TRs in this run: 140\n",
      "\n",
      "*** Saving data to /jukebox/norman/rsiyer/rtmindeye/data_sub-003_ses-01/bids/derivatives/glmsingle_nofithrf/sub-003/sub-003_ses-01_task-study_run-07_2D_bold ***\n",
      "\n",
      "loading data for run 8 : /jukebox/norman/rsiyer/rtmindeye/data_sub-003_ses-01/bids/derivatives/fmriprep/sub-003/ses-01/func/sub-003_ses-01_task-study_run-08_space-T1w_desc-preproc_bold.nii.gz\n",
      "\n",
      "BOLD data shape: (478003, 140)\n",
      "TRs in this run: 140\n",
      "\n",
      "*** Saving data to /jukebox/norman/rsiyer/rtmindeye/data_sub-003_ses-01/bids/derivatives/glmsingle_nofithrf/sub-003/sub-003_ses-01_task-study_run-08_2D_bold ***\n",
      "\n",
      "loading data for run 9 : /jukebox/norman/rsiyer/rtmindeye/data_sub-003_ses-01/bids/derivatives/fmriprep/sub-003/ses-01/func/sub-003_ses-01_task-study_run-09_space-T1w_desc-preproc_bold.nii.gz\n",
      "\n",
      "BOLD data shape: (478003, 140)\n",
      "TRs in this run: 140\n",
      "\n",
      "*** Saving data to /jukebox/norman/rsiyer/rtmindeye/data_sub-003_ses-01/bids/derivatives/glmsingle_nofithrf/sub-003/sub-003_ses-01_task-study_run-09_2D_bold ***\n",
      "\n",
      "loading data for run 10 : /jukebox/norman/rsiyer/rtmindeye/data_sub-003_ses-01/bids/derivatives/fmriprep/sub-003/ses-01/func/sub-003_ses-01_task-study_run-10_space-T1w_desc-preproc_bold.nii.gz\n",
      "\n",
      "BOLD data shape: (478003, 140)\n",
      "TRs in this run: 140\n",
      "\n",
      "*** Saving data to /jukebox/norman/rsiyer/rtmindeye/data_sub-003_ses-01/bids/derivatives/glmsingle_nofithrf/sub-003/sub-003_ses-01_task-study_run-010_2D_bold ***\n",
      "\n",
      "loading data for run 11 : /jukebox/norman/rsiyer/rtmindeye/data_sub-003_ses-01/bids/derivatives/fmriprep/sub-003/ses-01/func/sub-003_ses-01_task-study_run-11_space-T1w_desc-preproc_bold.nii.gz\n",
      "\n",
      "BOLD data shape: (478003, 140)\n",
      "TRs in this run: 140\n",
      "\n",
      "*** Saving data to /jukebox/norman/rsiyer/rtmindeye/data_sub-003_ses-01/bids/derivatives/glmsingle_nofithrf/sub-003/sub-003_ses-01_task-study_run-011_2D_bold ***\n",
      "\n",
      "loading data for run 12 : /jukebox/norman/rsiyer/rtmindeye/data_sub-003_ses-01/bids/derivatives/fmriprep/sub-003/ses-01/func/sub-003_ses-01_task-study_run-12_space-T1w_desc-preproc_bold.nii.gz\n",
      "\n",
      "BOLD data shape: (478003, 140)\n",
      "TRs in this run: 140\n",
      "\n",
      "*** Saving data to /jukebox/norman/rsiyer/rtmindeye/data_sub-003_ses-01/bids/derivatives/glmsingle_nofithrf/sub-003/sub-003_ses-01_task-study_run-012_2D_bold ***\n",
      "\n",
      "loading data for run 13 : /jukebox/norman/rsiyer/rtmindeye/data_sub-003_ses-01/bids/derivatives/fmriprep/sub-003/ses-01/func/sub-003_ses-01_task-study_run-13_space-T1w_desc-preproc_bold.nii.gz\n",
      "\n",
      "BOLD data shape: (478003, 140)\n",
      "TRs in this run: 140\n",
      "\n",
      "*** Saving data to /jukebox/norman/rsiyer/rtmindeye/data_sub-003_ses-01/bids/derivatives/glmsingle_nofithrf/sub-003/sub-003_ses-01_task-study_run-013_2D_bold ***\n",
      "\n",
      "loading data for run 14 : /jukebox/norman/rsiyer/rtmindeye/data_sub-003_ses-01/bids/derivatives/fmriprep/sub-003/ses-01/func/sub-003_ses-01_task-study_run-14_space-T1w_desc-preproc_bold.nii.gz\n",
      "\n",
      "BOLD data shape: (478003, 140)\n",
      "TRs in this run: 140\n",
      "\n",
      "*** Saving data to /jukebox/norman/rsiyer/rtmindeye/data_sub-003_ses-01/bids/derivatives/glmsingle_nofithrf/sub-003/sub-003_ses-01_task-study_run-014_2D_bold ***\n",
      "\n",
      "loading data for run 15 : /jukebox/norman/rsiyer/rtmindeye/data_sub-003_ses-01/bids/derivatives/fmriprep/sub-003/ses-01/func/sub-003_ses-01_task-study_run-15_space-T1w_desc-preproc_bold.nii.gz\n",
      "\n",
      "BOLD data shape: (478003, 140)\n",
      "TRs in this run: 140\n",
      "\n",
      "*** Saving data to /jukebox/norman/rsiyer/rtmindeye/data_sub-003_ses-01/bids/derivatives/glmsingle_nofithrf/sub-003/sub-003_ses-01_task-study_run-015_2D_bold ***\n",
      "\n",
      "loading data for run 16 : /jukebox/norman/rsiyer/rtmindeye/data_sub-003_ses-01/bids/derivatives/fmriprep/sub-003/ses-01/func/sub-003_ses-01_task-study_run-16_space-T1w_desc-preproc_bold.nii.gz\n",
      "\n",
      "BOLD data shape: (478003, 140)\n",
      "TRs in this run: 140\n",
      "\n",
      "*** Saving data to /jukebox/norman/rsiyer/rtmindeye/data_sub-003_ses-01/bids/derivatives/glmsingle_nofithrf/sub-003/sub-003_ses-01_task-study_run-016_2D_bold ***\n",
      "\n",
      "\n",
      "number of runs in BOLD data: 16\n"
     ]
    }
   ],
   "source": [
    "# variables that will contain bold time-series and design matrices from each run\n",
    "data = []\n",
    "TR_run = []\n",
    "\n",
    "if load_epi == 1:\n",
    "    epi_masker=NiftiMasker(mask_img=avg_mask)\n",
    "\n",
    "    for run in range(0,n_runs):\n",
    "        if run < 9:\n",
    "            epi_file=datadir + '/%s/func/%s_%s_task-study_run-0%i_space-T1w_desc-preproc_bold.nii.gz' % (session,sub,session,run+1)\n",
    "        else:\n",
    "            epi_file=datadir + '/%s/func/%s_%s_task-study_run-%i_space-T1w_desc-preproc_bold.nii.gz' % (session,sub,session,run+1)\n",
    "    \n",
    "        print('loading data for run', run+1, ':', epi_file)\n",
    "        #print(run,ses,task,rr)\n",
    "        print('')\n",
    "        epi_mask_data = epi_masker.fit_transform(epi_file)\n",
    "    \n",
    "        # alternate to NiftiMasker\n",
    "        # from nilearn.masking import apply_mask\n",
    "        # masked_data = apply_mask(epi_file, mask_img)\n",
    "    \n",
    "        epi_mask_data = epi_mask_data.T #transpose to make it voxels,time\n",
    "        #print('epi data shape:', epi_mask_data.shape)\n",
    "\n",
    "        # add this run's data to data variable\n",
    "        data.append(epi_mask_data)\n",
    "        TR_run.append(epi_mask_data.shape[1])\n",
    "        print('BOLD data shape:', data[run].shape)\n",
    "        print('TRs in this run:', TR_run[run])\n",
    "        \n",
    "        # save individual run data to npy file\n",
    "        filename = os.path.join(outputdir, sub, '%s_%s_task-study_run-0%i_2D_bold' %(sub,session,run+1))\n",
    "        print(f'\\n*** Saving data to {filename} ***\\n')\n",
    "        np.save(filename, epi_mask_data)\n",
    "\n",
    "elif load_epi == 0:\n",
    "    for run in range(0,n_runs):        \n",
    "        \n",
    "        # load npy data file\n",
    "        filename = os.path.join(outputdir, sub, '%s_%s_task-study_run-0%i_2D_bold.npy' %(sub,session,run+1))\n",
    "        print(f'\\n*** Loading data from {filename} ***\\n')\n",
    "        epi_mask_data = np.load(filename)\n",
    "        \n",
    "        # add this run's data to data variable\n",
    "        data.append(epi_mask_data)\n",
    "        TR_run.append(epi_mask_data.shape[1])\n",
    "        \n",
    "        print('BOLD data shape:', data[run].shape)\n",
    "        print('TRs in this run:', TR_run[run])\n",
    "        \n",
    "print('')\n",
    "print('number of runs in BOLD data:', len(data))  "
   ]
  },
  {
   "cell_type": "markdown",
   "metadata": {},
   "source": [
    "## Upsample fMRI data to 1-sec TR\n",
    "At this point, we have extracted all brain voxels and flattened the data to 2D (voxels,TR). \n",
    "Now we will interpolate the time-series to go from 1.5 sec TR to 1 sec TR. "
   ]
  },
  {
   "cell_type": "code",
   "execution_count": 27,
   "metadata": {},
   "outputs": [],
   "source": [
    "# from tseriesinterp import *\n",
    "\n",
    "# # import importlib\n",
    "# # import tseriesinterp #import the module here, so that it can be reloaded.\n",
    "# # importlib.reload(tseriesinterp)\n",
    "# # from tseriesinterp import * # or whatever name you want."
   ]
  },
  {
   "cell_type": "code",
   "execution_count": 28,
   "metadata": {},
   "outputs": [],
   "source": [
    "# data[0]"
   ]
  },
  {
   "cell_type": "code",
   "execution_count": 29,
   "metadata": {},
   "outputs": [],
   "source": [
    "# Upsample one run as an example\n",
    "# data_upsampled = tseriesinterp(data[0], tr_orig, tr, dim=1)\n",
    "# data_upsampled.shape"
   ]
  },
  {
   "cell_type": "code",
   "execution_count": 30,
   "metadata": {},
   "outputs": [
    {
     "data": {
      "text/plain": [
       "Text(0, 0.5, 'Voxel Intensity')"
      ]
     },
     "execution_count": 30,
     "metadata": {},
     "output_type": "execute_result"
    },
    {
     "data": {
      "image/png": "[encoded data removed]",
      "text/plain": [
       "<Figure size 1400x500 with 1 Axes>"
      ]
     },
     "metadata": {},
     "output_type": "display_data"
    }
   ],
   "source": [
    "# voxel_id=500\n",
    "\n",
    "# f, ax = plt.subplots(1,1, figsize=(14,5))\n",
    "# ax.plot(data[0][voxel_id, :])\n",
    "# ax.set_title('Voxel time series before upsampling, voxel id = %d' % voxel_id)\n",
    "# ax.set_xlabel('TR')\n",
    "# ax.set_ylabel('Voxel Intensity')\n",
    "\n",
    "# # f, ax = plt.subplots(1,1, figsize=(14,5))\n",
    "# # ax.plot(data_upsampled[voxel_id, :])\n",
    "# # ax.set_title('Voxel time series after upsampling, voxel id = %d' % voxel_id)\n",
    "# # ax.set_xlabel('TR')\n",
    "# # ax.set_ylabel('Voxel Intensity')\n"
   ]
  },
  {
   "cell_type": "code",
   "execution_count": null,
   "metadata": {
    "scrolled": true
   },
   "outputs": [
    {
     "name": "stdout",
     "output_type": "stream",
     "text": [
      "BOLD data shape: (478003, 280)\n",
      "TRs in this run: 280\n",
      "\n",
      "*** Saving data to /jukebox/norman/rsiyer/rtmindeye/data_sub-003_ses-01/bids/derivatives/glmsingle_nofithrf/sub-003/sub-003_ses-01_task-study_run-01_2D_upsampled_bold ***\n",
      "\n",
      "BOLD data shape: (478003, 280)\n",
      "TRs in this run: 280\n",
      "\n",
      "*** Saving data to /jukebox/norman/rsiyer/rtmindeye/data_sub-003_ses-01/bids/derivatives/glmsingle_nofithrf/sub-003/sub-003_ses-01_task-study_run-02_2D_upsampled_bold ***\n",
      "\n",
      "BOLD data shape: (478003, 280)\n",
      "TRs in this run: 280\n",
      "\n",
      "*** Saving data to /jukebox/norman/rsiyer/rtmindeye/data_sub-003_ses-01/bids/derivatives/glmsingle_nofithrf/sub-003/sub-003_ses-01_task-study_run-03_2D_upsampled_bold ***\n",
      "\n",
      "BOLD data shape: (478003, 280)\n",
      "TRs in this run: 280\n",
      "\n",
      "*** Saving data to /jukebox/norman/rsiyer/rtmindeye/data_sub-003_ses-01/bids/derivatives/glmsingle_nofithrf/sub-003/sub-003_ses-01_task-study_run-04_2D_upsampled_bold ***\n",
      "\n",
      "BOLD data shape: (478003, 280)\n",
      "TRs in this run: 280\n",
      "\n",
      "*** Saving data to /jukebox/norman/rsiyer/rtmindeye/data_sub-003_ses-01/bids/derivatives/glmsingle_nofithrf/sub-003/sub-003_ses-01_task-study_run-05_2D_upsampled_bold ***\n",
      "\n",
      "BOLD data shape: (478003, 280)\n",
      "TRs in this run: 280\n",
      "\n",
      "*** Saving data to /jukebox/norman/rsiyer/rtmindeye/data_sub-003_ses-01/bids/derivatives/glmsingle_nofithrf/sub-003/sub-003_ses-01_task-study_run-06_2D_upsampled_bold ***\n",
      "\n",
      "BOLD data shape: (478003, 280)\n",
      "TRs in this run: 280\n",
      "\n",
      "*** Saving data to /jukebox/norman/rsiyer/rtmindeye/data_sub-003_ses-01/bids/derivatives/glmsingle_nofithrf/sub-003/sub-003_ses-01_task-study_run-07_2D_upsampled_bold ***\n",
      "\n",
      "BOLD data shape: (478003, 280)\n",
      "TRs in this run: 280\n",
      "\n",
      "*** Saving data to /jukebox/norman/rsiyer/rtmindeye/data_sub-003_ses-01/bids/derivatives/glmsingle_nofithrf/sub-003/sub-003_ses-01_task-study_run-08_2D_upsampled_bold ***\n",
      "\n",
      "BOLD data shape: (478003, 280)\n",
      "TRs in this run: 280\n",
      "\n",
      "*** Saving data to /jukebox/norman/rsiyer/rtmindeye/data_sub-003_ses-01/bids/derivatives/glmsingle_nofithrf/sub-003/sub-003_ses-01_task-study_run-09_2D_upsampled_bold ***\n",
      "\n",
      "BOLD data shape: (478003, 280)\n",
      "TRs in this run: 280\n",
      "\n",
      "*** Saving data to /jukebox/norman/rsiyer/rtmindeye/data_sub-003_ses-01/bids/derivatives/glmsingle_nofithrf/sub-003/sub-003_ses-01_task-study_run-010_2D_upsampled_bold ***\n",
      "\n",
      "BOLD data shape: (478003, 280)\n",
      "TRs in this run: 280\n",
      "\n",
      "*** Saving data to /jukebox/norman/rsiyer/rtmindeye/data_sub-003_ses-01/bids/derivatives/glmsingle_nofithrf/sub-003/sub-003_ses-01_task-study_run-011_2D_upsampled_bold ***\n",
      "\n",
      "BOLD data shape: (478003, 280)\n",
      "TRs in this run: 280\n",
      "\n",
      "*** Saving data to /jukebox/norman/rsiyer/rtmindeye/data_sub-003_ses-01/bids/derivatives/glmsingle_nofithrf/sub-003/sub-003_ses-01_task-study_run-012_2D_upsampled_bold ***\n",
      "\n",
      "BOLD data shape: (478003, 280)\n",
      "TRs in this run: 280\n",
      "\n",
      "*** Saving data to /jukebox/norman/rsiyer/rtmindeye/data_sub-003_ses-01/bids/derivatives/glmsingle_nofithrf/sub-003/sub-003_ses-01_task-study_run-013_2D_upsampled_bold ***\n",
      "\n",
      "BOLD data shape: (478003, 280)\n",
      "TRs in this run: 280\n",
      "\n",
      "*** Saving data to /jukebox/norman/rsiyer/rtmindeye/data_sub-003_ses-01/bids/derivatives/glmsingle_nofithrf/sub-003/sub-003_ses-01_task-study_run-014_2D_upsampled_bold ***\n",
      "\n"
     ]
    }
   ],
   "source": [
    "# data_upsampled = []\n",
    "# TR_run_upsampled = []\n",
    "\n",
    "# if run_upsampling == 1:\n",
    "    \n",
    "#     for run in range(0,n_runs): \n",
    "#         # perform interpolation\n",
    "#         data_new = tseriesinterp(data[run], tr_orig, tr, dim=1)\n",
    "    \n",
    "#         # add this run's data to data variable\n",
    "#         data_upsampled.append(data_new)\n",
    "#         TR_run_upsampled.append(data_new.shape[1])\n",
    "            \n",
    "#         print('BOLD data shape:', data_upsampled[run].shape)\n",
    "#         print('TRs in this run:', TR_run_upsampled[run])\n",
    "    \n",
    "#         # save individual run data to npy file\n",
    "#         filename = os.path.join(outputdir, sub, '%s_%s_task-study_run-0%i_2D_upsampled_bold' %(sub,session,run+1))\n",
    "#         print(f'\\n*** Saving data to {filename} ***\\n')\n",
    "#         np.save(filename, data_new)\n",
    "\n",
    "# elif run_upsampling == 0:\n",
    "    \n",
    "#     for run in range(0,n_runs):        \n",
    "#         # load npy data file\n",
    "#         filename = os.path.join(outputdir, sub, '%s_%s_task-study_run-0%i_2D_upsampled_bold.npy' %(sub,session,run+1))\n",
    "#         print(f'\\n*** Loading data from {filename} ***\\n')\n",
    "#         data_new = np.load(filename)\n",
    "        \n",
    "#         # add this run's data to data variable\n",
    "#         data_upsampled.append(data_new)\n",
    "#         TR_run_upsampled.append(data_new.shape[1])\n",
    "        \n",
    "#         print('BOLD data shape:', data_upsampled[run].shape)\n",
    "#         print('TRs in this run:', TR_run_upsampled[run])\n",
    "            \n",
    "# print('')\n",
    "# print('number of runs in upsampled BOLD data:', len(data_upsampled))   "
   ]
  },
  {
   "cell_type": "code",
   "execution_count": null,
   "metadata": {},
   "outputs": [],
   "source": [
    "data_upsampled = data"
   ]
  },
  {
   "cell_type": "code",
   "execution_count": null,
   "metadata": {
    "scrolled": true
   },
   "outputs": [],
   "source": [
    "# print some relevant metadata\n",
    "print(f'There are {len(data_upsampled)} runs in total\\n')\n",
    "#print(f'N = {data[0].shape[1]} TRs per run\\n')\n",
    "print(f'XYZ dimensionality is: {xyz}\\n')\n",
    "print(f'The dimensions of the 2D data for each run are:\\n {data_upsampled[0].shape}\\n {data_upsampled[1].shape}\\n {data_upsampled[2].shape}') \n",
    "print(f' {data_upsampled[3].shape}\\n {data_upsampled[4].shape}\\n {data_upsampled[5].shape}\\n {data_upsampled[6].shape}\\n {data_upsampled[7].shape}')\n",
    "print(f'The stimulus duration is {stimdur} seconds\\n')\n",
    "print(f'The TR is {tr} seconds\\n')\n",
    "print(f'There are {np.sum(brain)} voxels in the included brain mask\\n')\n",
    "#print(f'There are {np.sum(roi)} voxels in the included visual ROI\\n')\n",
    "print(f'Numeric precision of data is: {type(data[0][0,0])}\\n')\n"
   ]
  },
  {
   "cell_type": "code",
   "execution_count": null,
   "metadata": {
    "scrolled": true
   },
   "outputs": [],
   "source": [
    "# plot example slice from run 1 and run 16\n",
    "# first, we need to unmask the data to get it back into 3D/4D format:\n",
    "z = 46\n",
    "for runnum in range(16):\n",
    "    X = nilearn.masking.unmask(data_upsampled[runnum].T, avg_mask)\n",
    "    run = X.get_fdata()\n",
    "\n",
    "    plt.figure(figsize=(20,6))\n",
    "    plt.subplot(121)\n",
    "    plt.imshow(run[:,:,z,0])\n",
    "    plt.title('example slice from run 1',fontsize=16)\n",
    "    \n",
    "    # plt.figure(figsize=(20,6))\n",
    "    # plt.subplot(121)\n",
    "    # plt.imshow(run16[:,:,z,8])\n",
    "    # plt.title('example slice from run 9',fontsize=16)"
   ]
  },
  {
   "cell_type": "code",
   "execution_count": null,
   "metadata": {},
   "outputs": [],
   "source": [
    "# plot example slice from run 1 and run 16\n",
    "# first, we need to unmask the data to get it back into 3D/4D format:\n",
    "X = nilearn.masking.unmask(data_upsampled[0].T, avg_mask)\n",
    "run1 = X.get_fdata()\n",
    "\n",
    "X = nilearn.masking.unmask(data_upsampled[8].T, avg_mask)\n",
    "run16 = X.get_fdata()\n",
    "\n",
    "z=40\n",
    "plt.figure(figsize=(20,6))\n",
    "plt.subplot(121)\n",
    "plt.imshow(run1[:,:,z,0])\n",
    "plt.title('example slice from run 1',fontsize=16)\n",
    "\n",
    "plt.figure(figsize=(20,6))\n",
    "plt.subplot(121)\n",
    "plt.imshow(run16[:,:,z,8])\n",
    "plt.title('example slice from run 9',fontsize=16)"
   ]
  },
  {
   "cell_type": "code",
   "execution_count": null,
   "metadata": {
    "scrolled": true,
    "tags": []
   },
   "outputs": [],
   "source": [
    "# Plot design matrix for each run\n",
    "for run in range(n_runs):\n",
    "    plt.figure(figsize=(20,20))\n",
    "    plt.imshow(design[run][:,:],interpolation='none')\n",
    "    plt.title(' design matrix from run %i' %(run+1), fontsize=16)\n",
    "    plt.xlabel('conditions',fontsize=16)\n",
    "    plt.ylabel('time (TR)',fontsize=16) "
   ]
  },
  {
   "cell_type": "markdown",
   "metadata": {},
   "source": [
    "## Run GLMsingle with default parameters to estimate single-trial betas"
   ]
  },
  {
   "cell_type": "code",
   "execution_count": null,
   "metadata": {
    "scrolled": true
   },
   "outputs": [],
   "source": [
    "# outputs and figures will be stored in a folder (you can specify its name\n",
    "# as the 5th output to GLMsingle). model estimates can be also\n",
    "# saved to the 'results' variable which is the only output of\n",
    "# GLMsingle.\n",
    "\n",
    "# optional parameters below can be assigned to a structure, i.e., opt =\n",
    "# dict('wantlibrary':1, 'wantglmdenoise':1); options are the 6th input to\n",
    "# GLMsingle.\n",
    "\n",
    "# there are many options that can be specified; here, we comment on the\n",
    "# main options that one might want to modify/set. defaults for the options\n",
    "# are indicated below.\n",
    "\n",
    "# wantlibrary = 1 -> fit HRF to each voxel \n",
    "# wantglmdenoise = 1 -> use GLMdenoise \n",
    "# wantfracridge = 1 -> use ridge regression to improve beta estimates \n",
    "# chunklen = 50000 -> is the number of voxels that we will\n",
    "#    process at the same time. for setups with lower memory, you may need to \n",
    "#    decrease this number.\n",
    "\n",
    "# wantmemoryoutputs is a logical vector [A B C D] indicating which of the\n",
    "#     four model types to return in the output <results>. the user must be\n",
    "#     careful with this, as large datasets can require a lot of RAM. if you\n",
    "#     do not request the various model types, they will be cleared from\n",
    "#     memory (but still potentially saved to disk). default: [0 0 0 1]\n",
    "#     which means return only the final type-D model.\n",
    "\n",
    "# wantfileoutputs is a logical vector [A B C D] indicating which of the\n",
    "#     four model types to save to disk (assuming that they are computed). A\n",
    "#     = 0/1 for saving the results of the ONOFF model, B = 0/1 for saving\n",
    "#     the results of the FITHRF model, C = 0/1 for saving the results of the\n",
    "#     FITHRF_GLMdenoise model, D = 0/1 for saving the results of the\n",
    "#     FITHRF_GLMdenoise_RR model. default: [1 1 1 1] which means save all\n",
    "#     computed results to disk.\n",
    "\n",
    "# numpcstotry (optional) is a non-negative integer indicating the maximum\n",
    "#     number of GLMdenoise PCs to enter into the model. default: 10.\n",
    "\n",
    "# fracs (optional) is a vector of fractions that are greater than 0\n",
    "#     and less than or equal to 1. we automatically sort in descending\n",
    "#     order and ensure the fractions are unique. these fractions indicate\n",
    "#     the regularization levels to evaluate using fractional ridge\n",
    "#     regression (fracridge) and cross-validation. default:\n",
    "#     fliplr(.05:.05:1). a special case is when <fracs> is specified as a\n",
    "#     single scalar value. in this case, cross-validation is NOT performed\n",
    "#     for the type-D model, and we instead blindly use the supplied\n",
    "#     fractional value for the type-D model."
   ]
  },
  {
   "cell_type": "code",
   "execution_count": null,
   "metadata": {
    "scrolled": true
   },
   "outputs": [],
   "source": [
    "# create a directory for saving GLMsingle outputs\n",
    "# outputdir_glmsingle = join(homedir,'examples','example1outputs','GLMsingle')\n",
    "outputdir_glmsingle = join(outputdir, sub, f'glmsingle_{session}')\n",
    "figuredir_glmsingle = join(outputdir, 'figures', sub)\n",
    "os.makedirs(outputdir_glmsingle,exist_ok=True)\n",
    "os.makedirs(figuredir_glmsingle,exist_ok=True)\n",
    "\n",
    "opt = dict()\n",
    "\n",
    "# set important fields for completeness (but these would be enabled by default)\n",
    "opt['wantlibrary'] = 1\n",
    "opt['wantglmdenoise'] = 1\n",
    "opt['wantfracridge'] = 1\n",
    "\n",
    "# for the purpose of this example we will keep the relevant outputs in memory\n",
    "# and also save them to the disk\n",
    "opt['wantfileoutputs'] = [0,0,0,1]\n",
    "opt['wantmemoryoutputs'] = [1,1,1,1]\n",
    "#opt['wanthdf5'] = 1\n",
    "\n",
    "# running python GLMsingle involves creating a GLM_single object\n",
    "# and then running the procedure using the .fit() routine\n",
    "glmsingle_obj = GLM_single(opt)\n",
    "\n",
    "# visualize all the hyperparameters\n",
    "pprint(glmsingle_obj.params)"
   ]
  },
  {
   "cell_type": "code",
   "execution_count": null,
   "metadata": {
    "scrolled": true
   },
   "outputs": [],
   "source": [
    "print('shape of data before running GLMsingle:')\n",
    "print(data_upsampled[0].shape)\n",
    "print('shape of design matrix:')\n",
    "print(design[0].shape)"
   ]
  },
  {
   "cell_type": "code",
   "execution_count": null,
   "metadata": {
    "scrolled": true
   },
   "outputs": [],
   "source": [
    "# Try running with brainexclude=avg_mask\n",
    "# if it crashes, then increase max to 1,500,000\n",
    "\n",
    "# this example saves output files to the outputdir folder\n",
    "# if these outputs don't already exist, we will perform the time-consuming call to GLMsingle;\n",
    "# otherwise, we will just load from disk.\n",
    "\n",
    "start_time = time.time()\n",
    "\n",
    "#if not exists(outputdir_glmsingle):\n",
    "if run_glmsingle == 1:\n",
    "    print('saving outputs to', outputdir_glmsingle)\n",
    "    print(f'running GLMsingle...')\n",
    "    \n",
    "    # run GLMsingle\n",
    "    results_glmsingle = glmsingle_obj.fit(\n",
    "       design,\n",
    "       data_upsampled,\n",
    "       stimdur,\n",
    "       tr,\n",
    "       outputdir=outputdir_glmsingle,\n",
    "       figuredir=figuredir_glmsingle\n",
    "       )\n",
    "    \n",
    "    # save results in memory to npz\n",
    "    np.savez(join(outputdir_glmsingle,'TYPEA_ONOFF.npz'), **results_glmsingle['typea'])\n",
    "    np.savez(join(outputdir_glmsingle,'TYPEB_FITHRF.npz'), **results_glmsingle['typeb'])\n",
    "    np.savez(join(outputdir_glmsingle,'TYPEC_FITHRF_GLMDENOISE.npz'), **results_glmsingle['typec'])\n",
    "    np.savez(join(outputdir_glmsingle,'TYPED_FITHRF_GLMDENOISE_RR.npz'), **results_glmsingle['typed'])\n",
    "    \n",
    "    # we assign outputs of GLMsingle to the \"results_glmsingle\" variable.\n",
    "    # note that results_glmsingle['typea'] contains GLM estimates from an ONOFF model,\n",
    "    # where all images are treated as the same condition. these estimates\n",
    "    # could be potentially used to find cortical areas that respond to\n",
    "    # visual stimuli. we want to compare beta weights between conditions\n",
    "    # therefore we are not going to include the ONOFF betas in any analyses of \n",
    "    # voxel reliability\n",
    "    \n",
    "elif run_glmsingle == 0:\n",
    "    print(f'loading existing GLMsingle outputs from directory:\\n\\t{outputdir_glmsingle}')\n",
    "    # takes about 2 minutes to load\n",
    "    \n",
    "    # load existing file outputs if they exist\n",
    "    results_glmsingle = dict()\n",
    "    \n",
    "    if opt['wanthdf5'] == 1: #if outputs are in hdf5 format\n",
    "        results_intm = dict()\n",
    "        results_intm['typea'] = h5py.File(join(outputdir_glmsingle,'TYPEA_ONOFF.hdf5'), 'r')\n",
    "        results_intm['typeb'] = h5py.File(join(outputdir_glmsingle,'TYPEB_FITHRF.hdf5'), 'r')\n",
    "        results_intm['typec'] = h5py.File(join(outputdir_glmsingle,'TYPEC_FITHRF_GLMDENOISE.hdf5'), 'r')\n",
    "        results_intm['typed'] = h5py.File(join(outputdir_glmsingle,'TYPED_FITHRF_GLMDENOISE_RR.hdf5'), 'r')\n",
    "        \n",
    "        model_types = ['typea', 'typeb', 'typec', 'typed']\n",
    "        for model in range(len(model_types)):\n",
    "            results_glmsingle[model_types[model]] = dict()\n",
    "            plot_fields = list(results_intm[model_types[model]].keys())\n",
    "    \n",
    "            for i in range(len(plot_fields)):\n",
    "                results_glmsingle[model_types[model]][plot_fields[i]] = results_intm[model_types[model]].get(plot_fields[i]).value\n",
    "    \n",
    "    else: #load npy files\n",
    "        #results_glmsingle['typea'] = np.load(join(outputdir_glmsingle,'TYPEA_ONOFF.npy'),allow_pickle=True).item()\n",
    "        #results_glmsingle['typeb'] = np.load(join(outputdir_glmsingle,'TYPEB_FITHRF.npy'),allow_pickle=True).item()\n",
    "        #results_glmsingle['typec'] = np.load(join(outputdir_glmsingle,'TYPEC_FITHRF_GLMDENOISE.npy'),allow_pickle=True).item()\n",
    "        #results_glmsingle['typed'] = np.load(join(outputdir_glmsingle,'TYPED_FITHRF_GLMDENOISE_RR.npy'),allow_pickle=True).item()\n",
    "\n",
    "        # outputdir_glmsingle = '/jukebox/norman/rsiyer/rtmindeye/data/bids/derivatives/glmsingle/sub-003/glmsingle_ses-01'\n",
    "        results_glmsingle['typea'] = np.load(join(outputdir_glmsingle,'TYPEA_ONOFF.npz'))\n",
    "        results_glmsingle['typeb'] = np.load(join(outputdir_glmsingle,'TYPEB_FITHRF.npz'))\n",
    "        results_glmsingle['typec'] = np.load(join(outputdir_glmsingle,'TYPEC_FITHRF_GLMDENOISE.npz'))\n",
    "        results_glmsingle['typed'] = np.load(join(outputdir_glmsingle,'TYPED_FITHRF_GLMDENOISE_RR.npz'))\n",
    "        \n",
    "elapsed_time = time.time() - start_time\n",
    "\n",
    "print(\n",
    "    '\\telapsed time: ',\n",
    "    f'{time.strftime(\"%H:%M:%S\", time.gmtime(elapsed_time))}'\n",
    ")"
   ]
  },
  {
   "cell_type": "code",
   "execution_count": null,
   "metadata": {},
   "outputs": [],
   "source": [
    "results_glmsingle['typea']['onoffR2'].shape"
   ]
  },
  {
   "cell_type": "code",
   "execution_count": null,
   "metadata": {},
   "outputs": [],
   "source": [
    "avg_mask.get_fdata().shape"
   ]
  },
  {
   "cell_type": "markdown",
   "metadata": {},
   "source": [
    "## Summary of important outputs\n",
    "\n",
    "the outputs of GLMsingle are formally documented in its header. here, we highlight a few of the more important outputs:\n",
    "\n",
    "* R2 -> is model accuracy expressed in terms of R^2 (percentage).\n",
    "\n",
    "* betasmd -> is the full set of single-trial beta weights (X x Y x Z x TRIALS). beta weights are arranged in chronological order.\n",
    "\n",
    "* HRFindex -> is the 1-index of the best fit HRF. HRFs can be recovered with getcanonicalHRFlibrary(stimdur,tr)\n",
    "\n",
    "* FRACvalue -> is the fractional ridge regression regularization level chosen for each voxel. values closer to 1 mean less regularization."
   ]
  },
  {
   "cell_type": "code",
   "execution_count": null,
   "metadata": {
    "scrolled": true
   },
   "outputs": [],
   "source": [
    "# GLMsingle output is in 2D format (voxels,samples)\n",
    "# we need to unmask the data to get it back into 3D/4D format:\n",
    "# X = nilearn.masking.unmask(results_glmsingle['typeb']['HRFindex'], avg_mask)\n",
    "# X_hrf = X.get_fdata()"
   ]
  },
  {
   "cell_type": "code",
   "execution_count": null,
   "metadata": {
    "scrolled": true
   },
   "outputs": [],
   "source": [
    "# results_out = {\n",
    "#                     'onoffR2': np.reshape(onoffR2, [nx, ny, nz]),\n",
    "#                     'meanvol': np.reshape(meanvol, [nx, ny, nz]),\n",
    "#                     'betasmd': np.reshape(betasmd, [nx, ny, nz])\n",
    "#                     }"
   ]
  },
  {
   "cell_type": "code",
   "execution_count": null,
   "metadata": {},
   "outputs": [],
   "source": [
    "# convert everything back to 3D/4D array format\n",
    "model_types = ['typea','typeb','typec','typed']\n",
    "\n",
    "results_glmsingle_3D = dict()\n",
    "\n",
    "for model in range(len(model_types)):\n",
    "    results_glmsingle_3D[model_types[model]] = dict()\n",
    "    \n",
    "    #plot_fields = list(results_glmsingle[model_types[model]].keys())\n",
    "    #print(model, plot_fields)\n",
    "    \n",
    "    if model == 0: #type A\n",
    "        plot_fields = ['betasmd','meanvol','onoffR2']\n",
    "    elif model == 1: #type B\n",
    "        plot_fields = ['betasmd','meanvol', 'R2','HRFindex', 'FitHRFR2']\n",
    "    elif model == 2: #type C\n",
    "        plot_fields = ['betasmd','meanvol', 'R2','HRFindex']\n",
    "    elif model == 3: #type D\n",
    "        plot_fields = ['betasmd','meanvol', 'R2','HRFindex','FRACvalue']\n",
    "    print(model_types[model])\n",
    "    \n",
    "    for i in range(len(plot_fields)):\n",
    "        print(plot_fields[i])\n",
    "        # find time dimension\n",
    "        dim = len(results_glmsingle[model_types[model]][plot_fields[i]].shape)-1\n",
    "        # flatten to 2D\n",
    "        mflat = reshape2D(results_glmsingle[model_types[model]][plot_fields[i]],dim) \n",
    "        print('original shape:', results_glmsingle[model_types[model]][plot_fields[i]].shape)\n",
    "        print('2D shape:', mflat.shape)\n",
    "        if sub == 'sub-001' and session == 'ses-01':\n",
    "            unmask_data = nilearn.masking.unmask(results_glmsingle[model_types[model]][plot_fields[i]].T, avg_mask)\n",
    "        else:\n",
    "            unmask_data = nilearn.masking.unmask(mflat, avg_mask)\n",
    "        results_glmsingle_3D[model_types[model]][plot_fields[i]] = unmask_data.get_fdata()\n",
    "        print('shape of unmasked data:', results_glmsingle_3D[model_types[model]][plot_fields[i]].shape)\n",
    "        print('')"
   ]
  },
  {
   "cell_type": "markdown",
   "metadata": {},
   "source": [
    "## Plot a slice of brain showing GLMsingle outputs"
   ]
  },
  {
   "cell_type": "code",
   "execution_count": null,
   "metadata": {},
   "outputs": [],
   "source": [
    "# results_glmsingle_3D['typeb'][plot_fields[i]].shape"
   ]
  },
  {
   "cell_type": "code",
   "execution_count": null,
   "metadata": {},
   "outputs": [],
   "source": [
    "# # we are going to plot several outputs from the FIT_HRF_GLMdenoise_RR GLM,\n",
    "# # which contains the full set of GLMsingle optimizations.\n",
    "\n",
    "# # choose a slice\n",
    "# #z=round(xyz[2]/3)\n",
    "# z=35\n",
    "\n",
    "# # we will plot betas, R2, optimal HRF indices, and the voxel frac values\n",
    "# plot_fields = ['betasmd','R2','HRFindex','FRACvalue']\n",
    "# #plot_fields = ['betasmd']\n",
    "# colormaps = ['RdBu_r','hot','jet','copper']\n",
    "# clims = [[-5,5],[0,85],[0,20],[0,1]]\n",
    "\n",
    "# plt.figure(figsize=(12,8))\n",
    "\n",
    "# for i in range(len(plot_fields)):\n",
    "    \n",
    "#     plt.subplot(2,2,i+1)\n",
    "    \n",
    "#     if i == 0:\n",
    "#         # when plotting betas, for simplicity just average across all image presentations\n",
    "#         # this will yield a summary of whether voxels tend to increase or decrease their \n",
    "#         # activity in response to the experimental stimuli (similar to outputs from \n",
    "#         # an ONOFF GLM)\n",
    "#         plot_data = np.nanmean(np.squeeze(results_assumehrf_3D['typeb'][plot_fields[i]]),3)\n",
    "#         titlestr = 'average GLM betas (1000 trials)'\n",
    "    \n",
    "#     else:\n",
    "#         # plot all other voxel-wise metrics as outputted from GLMsingle\n",
    "#         plot_data = np.squeeze(results_assumehrf_3D['typeb'][plot_fields[i]].reshape(xyz))\n",
    "#         titlestr = plot_fields[i]\n",
    "    \n",
    "#     plt.imshow(plot_data[:,:,z],cmap=colormaps[i],clim=clims[i])\n",
    "#     plt.colorbar()\n",
    "#     plt.title(titlestr)\n",
    "#     plt.axis(False)"
   ]
  },
  {
   "cell_type": "code",
   "execution_count": null,
   "metadata": {},
   "outputs": [],
   "source": [
    "# # we are going to plot several outputs from the FIT_HRF_GLMdenoise_RR GLM,\n",
    "# # which contains the full set of GLMsingle optimizations.\n",
    "\n",
    "# # choose a slice\n",
    "# #z=round(xyz[2]/3)\n",
    "# z=30\n",
    "\n",
    "# # we will plot betas, R2, optimal HRF indices, and the voxel frac values\n",
    "# plot_fields = ['betasmd','R2','HRFindex','FRACvalue']\n",
    "# #plot_fields = ['betasmd']\n",
    "# colormaps = ['RdBu_r','hot','jet','copper']\n",
    "# clims = [[-5,5],[0,85],[0,20],[0,1]]\n",
    "\n",
    "# plt.figure(figsize=(12,8))\n",
    "\n",
    "\n",
    "\n",
    "# if i == 0:\n",
    "#     # when plotting betas, for simplicity just average across all image presentations\n",
    "#     # this will yield a summary of whether voxels tend to increase or decrease their \n",
    "#     # activity in response to the experimental stimuli (similar to outputs from \n",
    "#     # an ONOFF GLM)\n",
    "#     plot_data = np.nanmean(np.squeeze(results_glmsingle_3D['typed'][plot_fields[i]]),3)\n",
    "#     titlestr = 'average GLM betas (1000 trials)'\n",
    "    \n",
    "# plt.imshow(plot_data[:,:,z],cmap=colormaps[i],clim=clims[i])\n",
    "# plt.colorbar()\n",
    "# plt.title(titlestr)\n",
    "# plt.axis(False)"
   ]
  },
  {
   "cell_type": "code",
   "execution_count": null,
   "metadata": {},
   "outputs": [],
   "source": [
    "# np.all(np.squeeze(results_glmsingle_3D['typec']['betasmd']) == results_glmsingle_3D['typec']['betasmd'])"
   ]
  },
  {
   "cell_type": "code",
   "execution_count": null,
   "metadata": {},
   "outputs": [],
   "source": [
    "# results_assumehrf_3D['typeb']['betasmd'].shape"
   ]
  },
  {
   "cell_type": "code",
   "execution_count": null,
   "metadata": {},
   "outputs": [],
   "source": [
    "# plot_data = np.nanmean(np.squeeze(results_glmsingle_3D['typeb']['betasmd']),3)\n",
    "# plt.imshow(plot_data[:, :, 40],clim=[-.4,.4])"
   ]
  },
  {
   "cell_type": "code",
   "execution_count": null,
   "metadata": {},
   "outputs": [],
   "source": [
    "# np.nanmean(np.squeeze(results_glmsingle_3D['typea']['betasmd']),3)"
   ]
  },
  {
   "cell_type": "code",
   "execution_count": null,
   "metadata": {},
   "outputs": [],
   "source": [
    "# # we are going to plot several outputs from the FIT_HRF_GLMdenoise_RR GLM,\n",
    "# # which contains the full set of GLMsingle optimizations.\n",
    "\n",
    "# # choose a slice\n",
    "# #z=round(xyz[2]/3)\n",
    "# z=48\n",
    "\n",
    "# # we will plot betas, R2, optimal HRF indices, and the voxel frac values\n",
    "# plot_fields = ['betasmd','R2','HRFindex','FRACvalue']\n",
    "# #plot_fields = ['betasmd']\n",
    "# colormaps = ['RdBu_r','hot','jet','copper']\n",
    "# clims = [[-0.5,0.5],[0,20],[0,20],[0,1]]\n",
    "\n",
    "# plt.figure(figsize=(12,8))\n",
    "\n",
    "# for i in range(len(plot_fields)):\n",
    "    \n",
    "#     plt.subplot(2,2,i+1)\n",
    "    \n",
    "#     if i == 0:\n",
    "#         # when plotting betas, for simplicity just average across all image presentations\n",
    "#         # this will yield a summary of whether voxels tend to increase or decrease their \n",
    "#         # activity in response to the experimental stimuli (similar to outputs from \n",
    "#         # an ONOFF GLM)\n",
    "#         plot_data = np.nanmean(np.squeeze(results_glmsingle_3D['typed'][plot_fields[i]]),3)\n",
    "#         titlestr = 'average GLM betas (1000 trials)'\n",
    "    \n",
    "#     else:\n",
    "#         # plot all other voxel-wise metrics as outputted from GLMsingle\n",
    "#         plot_data = np.squeeze(results_glmsingle_3D['typed'][plot_fields[i]].reshape(xyz))\n",
    "#         titlestr = plot_fields[i]\n",
    "    \n",
    "#     plt.imshow(plot_data[:,:,z],cmap=colormaps[i],clim=clims[i])\n",
    "#     plt.colorbar()\n",
    "#     plt.title(titlestr)\n",
    "#     plt.axis(False)"
   ]
  },
  {
   "cell_type": "code",
   "execution_count": null,
   "metadata": {},
   "outputs": [],
   "source": [
    "# we are going to plot several outputs from the FIT_HRF_GLMdenoise_RR GLM,\n",
    "# which contains the full set of GLMsingle optimizations.\n",
    "\n",
    "# choose a slice\n",
    "#z=round(xyz[2]/3)\n",
    "z=52\n",
    "\n",
    "# we will plot betas, R2, optimal HRF indices, and the voxel frac values\n",
    "plot_fields = ['betasmd','R2','HRFindex','FRACvalue']\n",
    "#plot_fields = ['betasmd']\n",
    "colormaps = ['RdBu_r','hot','jet','copper']\n",
    "clims = [[-5,5],[0,85],[0,20],[0,1]]\n",
    "\n",
    "plt.figure(figsize=(12,8))\n",
    "\n",
    "for i in range(len(plot_fields)):\n",
    "    \n",
    "    plt.subplot(2,2,i+1)\n",
    "    \n",
    "    if i == 0:\n",
    "        # when plotting betas, for simplicity just average across all image presentations\n",
    "        # this will yield a summary of whether voxels tend to increase or decrease their \n",
    "        # activity in response to the experimental stimuli (similar to outputs from \n",
    "        # an ONOFF GLM)\n",
    "        plot_data = np.nanmean(np.squeeze(results_glmsingle_3D['typed'][plot_fields[i]]),3)\n",
    "        titlestr = 'average GLM betas (1000 trials)'\n",
    "    \n",
    "    else:\n",
    "        # plot all other voxel-wise metrics as outputted from GLMsingle\n",
    "        plot_data = np.squeeze(results_glmsingle_3D['typed'][plot_fields[i]].reshape(xyz))\n",
    "        titlestr = plot_fields[i]\n",
    "    \n",
    "    plt.imshow(plot_data[:,:,z],cmap=colormaps[i],clim=clims[i])\n",
    "    plt.colorbar()\n",
    "    plt.title(titlestr)\n",
    "    plt.axis(False)"
   ]
  },
  {
   "cell_type": "markdown",
   "metadata": {
    "tags": []
   },
   "source": [
    "## Run a baseline GLM to compare with GLMsingle outputs"
   ]
  },
  {
   "cell_type": "code",
   "execution_count": null,
   "metadata": {
    "scrolled": true
   },
   "outputs": [],
   "source": [
    "# for comparison purposes we are going to run a standard GLM\n",
    "# without HRF fitting, GLMdenoise, or ridge regression regularization. we\n",
    "# will compute the split-half reliability at each voxel using this baseline\n",
    "# GLM, and then assess whether reliability improves using the output betas\n",
    "# from GLMsingle. \n",
    "\n",
    "# output directory for baseline GLM\n",
    "outputdir_baseline = join(homedir,'derivatives','glmsingle', sub, 'glmbaseline')\n",
    "os.makedirs(outputdir_baseline,exist_ok=True)\n",
    "\n",
    "# we will run this baseline GLM by changing the default settings in GLMsingle \n",
    "# contained within the \"opt\" structure.\n",
    "opt = dict() \n",
    "\n",
    "# turn off optimizations \n",
    "opt['wantlibrary'] = 0 # switch off HRF fitting\n",
    "opt['wantglmdenoise'] = 0 # switch off GLMdenoise\n",
    "opt['wantfracridge'] = 0 # switch off ridge regression\n",
    "\n",
    "# for the purpose of this example we will keep the relevant outputs in memory\n",
    "# and also save them to the disk...\n",
    "# the first two indices are the ON-OFF GLM and the baseline single-trial GLM. \n",
    "# no need to save the third (+ GLMdenoise) and fourth (+ fracridge) outputs\n",
    "# since they will not even be computed\n",
    "\n",
    "opt['wantmemoryoutputs'] = [1,1,0,0] \n",
    "opt['wantfileoutputs'] = [1,1,0,0]\n",
    "#opt['wanthdf5'] = 1\n",
    "\n",
    "# running python GLMsingle involves creating a GLM_single object\n",
    "# and then running the procedure using the .fit() routine\n",
    "glmbaseline_obj = GLM_single(opt)\n",
    "\n",
    "# visualize the hyperparameters, including the modified baseline opts\n",
    "pprint(glmbaseline_obj.params)"
   ]
  },
  {
   "cell_type": "code",
   "execution_count": null,
   "metadata": {
    "scrolled": true
   },
   "outputs": [],
   "source": [
    "start_time = time.time()\n",
    "\n",
    "# if these outputs don't already exist, we will perform the call to\n",
    "# GLMsingle; otherwise, we will just load from disk.\n",
    "#if not exists(outputdir_baseline):\n",
    "if run_glmbaseline == 1:\n",
    "    \n",
    "    print(f'running GLMsingle...')\n",
    "\n",
    "    # run GLMsingle, fitting the baseline GLM\n",
    "    results_assumehrf = glmbaseline_obj.fit(\n",
    "       design,\n",
    "       data_upsampled,\n",
    "       stimdur,\n",
    "       tr,\n",
    "       outputdir=outputdir_baseline)\n",
    "    \n",
    "    # save results in memory to npz\n",
    "    np.savez(join(outputdir_baseline,'TYPEA_ONOFF.npz'), **results_assumehrf['typea'])\n",
    "    np.savez(join(outputdir_baseline,'TYPEB_FITHRF.npz'), **results_assumehrf['typeb'])\n",
    "\n",
    "elif run_glmbaseline == 0:\n",
    "    \n",
    "    print(f'loading existing GLMsingle outputs from directory:\\n\\t{outputdir_baseline}')\n",
    "    \n",
    "    results_assumehrf = dict()\n",
    "    \n",
    "    if opt['wanthdf5'] == 1: #if outputs are in hdf5 format\n",
    "        results_intm2 = dict()\n",
    "        results_intm2['typea'] = h5py.File(join(outputdir_baseline,'TYPEA_ONOFF.hdf5'), 'r')\n",
    "        results_intm2['typeb'] = h5py.File(join(outputdir_baseline,'TYPEB_FITHRF.hdf5'), 'r')\n",
    "        \n",
    "        model_types = ['typea', 'typeb']\n",
    "        for model in range(len(model_types)):\n",
    "            results_assumehrf[model_types[model]] = dict()\n",
    "            plot_fields = list(results_intm2[model_types[model]].keys())\n",
    "    \n",
    "            for i in range(len(plot_fields)):\n",
    "                results_assumehrf[model_types[model]][plot_fields[i]] = results_intm2[model_types[model]].get(plot_fields[i]).value\n",
    "    else:\n",
    "        #results_assumehrf['typea'] = np.load(join(outputdir_baseline,'TYPEA_ONOFF.npy'),allow_pickle=True).item()\n",
    "        #results_assumehrf['typeb'] = np.load(join(outputdir_baseline,'TYPEB_FITHRF.npy'),allow_pickle=True).item()\n",
    "        results_assumehrf['typea'] = np.load(join(outputdir_baseline,'TYPEA_ONOFF.npz'))\n",
    "        results_assumehrf['typeb'] = np.load(join(outputdir_baseline,'TYPEB_FITHRF.npz'))\n",
    "    \n",
    "    # note that even though we are loading TYPEB_FITHRF betas, HRF fitting\n",
    "    # has been turned off and this struct field will thus contain the\n",
    "    # outputs of a GLM fit using the canonical HRF.\n",
    "    \n",
    "elapsed_time = time.time() - start_time\n",
    "print(\n",
    "    '\\telapsed time: ',\n",
    "    f'{time.strftime(\"%H:%M:%S\", time.gmtime(elapsed_time))}'\n",
    ")"
   ]
  },
  {
   "cell_type": "code",
   "execution_count": null,
   "metadata": {
    "scrolled": true
   },
   "outputs": [],
   "source": [
    "# convert back to 3D/4D array format\n",
    "model_types = ['typea','typeb']\n",
    "\n",
    "results_assumehrf_3D = dict()\n",
    "\n",
    "for model in range(len(model_types)):\n",
    "    results_assumehrf_3D[model_types[model]] = dict()\n",
    "    if model == 0: #type A\n",
    "        plot_fields = ['betasmd','onoffR2']\n",
    "    elif model == 1: #type B\n",
    "        plot_fields = ['betasmd','R2','HRFindex']\n",
    "    print(model_types[model])\n",
    "    for i in range(len(plot_fields)):\n",
    "        print(plot_fields[i])\n",
    "        # find time dimension\n",
    "        dim = len(results_assumehrf[model_types[model]][plot_fields[i]].shape)-1\n",
    "        # flatten to 2D\n",
    "        mflat = reshape2D(results_assumehrf[model_types[model]][plot_fields[i]],dim) \n",
    "        print('original shape:', results_assumehrf[model_types[model]][plot_fields[i]].shape)\n",
    "        print('2D shape:', mflat.shape)\n",
    "        if sub == 'sub-001' and session == 'ses-01':\n",
    "            unmask_data = nilearn.masking.unmask(results_assumehrf[model_types[model]][plot_fields[i]].T, avg_mask)\n",
    "        else:\n",
    "            unmask_data = nilearn.masking.unmask(mflat, avg_mask)\n",
    "        results_assumehrf_3D[model_types[model]][plot_fields[i]] = unmask_data.get_fdata()\n",
    "        print('shape of unmasked data:', results_assumehrf_3D[model_types[model]][plot_fields[i]].shape)\n",
    "        print('')"
   ]
  },
  {
   "cell_type": "code",
   "execution_count": null,
   "metadata": {
    "scrolled": true
   },
   "outputs": [],
   "source": [
    "# create dictionary containing the GLM betas from the four different models we will compare.\n",
    "# note that the \"assume hrf\" betas come from the \"typeb\" field of our baseline GLM\n",
    "# (with HRF fitting turned off), and that the \"fit hrf\" betas also come from \n",
    "# the \"typeb\" field of the GLM that ran with all default GLMsingle routines\n",
    "# enabled\n",
    "\n",
    "models = dict()\n",
    "models['assumehrf'] = results_assumehrf_3D['typeb']['betasmd']#.reshape(xyz + (1000,))\n",
    "models['fithrf'] = results_glmsingle_3D['typeb']['betasmd']\n",
    "models['fithrf_glmdenoise'] = results_glmsingle_3D['typec']['betasmd']\n",
    "models['fithrf_glmdenoise_rr'] = results_glmsingle_3D['typed']['betasmd']"
   ]
  },
  {
   "cell_type": "markdown",
   "metadata": {},
   "source": [
    "## Get indices of repeated conditions to use for reliability calculations\n",
    "\n",
    "To compare the results of different GLMs we are going to calculate the voxel-wise split-half reliablity for each model. Reliability values reflect a correlation between beta weights for repeated presentations of the same conditions. In short, we are going to check how reliable/reproducible are the single trial responses to repeated conditions estimated with each GLM type.\n",
    "\n",
    "In the code below, we are attempting to locate the indices in the beta weight GLMsingle outputs modelmd(x,y,z,trials) that correspond to repeated images."
   ]
  },
  {
   "cell_type": "code",
   "execution_count": null,
   "metadata": {
    "scrolled": true
   },
   "outputs": [],
   "source": [
    "if run_reliability == 1:\n",
    "    \n",
    "    # consolidate design matrices\n",
    "    designALL = np.concatenate(design,axis=0)\n",
    "    print('designALL shape (TRs, conditions):', designALL.shape)\n",
    "\n",
    "    # construct a vector containing 0-indexed condition numbers in chronological order\n",
    "    corder = []\n",
    "    for p in range(designALL.shape[0]):\n",
    "        if np.any(designALL[p]):\n",
    "            corder.append(np.argwhere(designALL[p])[0,0])\n",
    "\n",
    "    corder = np.array(corder)\n",
    "    \n",
    "    # let's take a look at the first few entries\n",
    "    print(corder[:3])\n",
    "    \n",
    "    # note that [374 496 7] means that the first stimulus trial involved\n",
    "    # presentation of the 374th condition (zero-indexed), the second stimulus trial \n",
    "    # involved presentation of the 496th condition, and so on."
   ]
  },
  {
   "cell_type": "code",
   "execution_count": null,
   "metadata": {
    "scrolled": true
   },
   "outputs": [],
   "source": [
    "# in order to compute split-half reliability, we have to do some indexing.\n",
    "# we want to find images with least two repetitions and then prepare a\n",
    "# useful matrix of indices that refer to when these occur.\n",
    "\n",
    "if run_reliability == 1:\n",
    "    \n",
    "    repindices = [] # 2 x images containing stimulus trial indices.\n",
    "\n",
    "    # the first row refers to the first presentation; the second row refers to\n",
    "    # the second presentation.\n",
    "    for p in range(designALL.shape[1]): # loop over every condition\n",
    "\n",
    "        temp = np.argwhere(corder==p)[:,0] # find indices where this condition was shown\n",
    "        #print(len(temp)) #vio condition should have 11 As, nonvio should have 9 As\n",
    "        \n",
    "        # only add repeated conditions to repindices\n",
    "        if len(temp) >= 2:\n",
    "            repindices.append([temp[0], temp[1]]) # note that for now we only look at first 2 repetitions\n",
    "\n",
    "    repindices = np.vstack(np.array(repindices)).T\n",
    "    print(repindices.shape, '(repetitions, condition)')"
   ]
  },
  {
   "cell_type": "code",
   "execution_count": null,
   "metadata": {},
   "outputs": [],
   "source": [
    "if run_reliability == 1:\n",
    "    # let's take a look at a few entries\n",
    "    print(repindices[:,:3])\n",
    "    \n",
    "    # notice that the first condition is presented on the 216th zero-indexed \n",
    "    # stimulus trial and the 485th stimulus trial, the second condition is presented on the\n",
    "    # 217th and 620st stimulus trials, and so on.\n",
    "    \n",
    "    print(f'there are {repindices.shape[1]} repeated conditions in the experiment')\n",
    "\n",
    "# now, for each voxel we are going to correlate beta weights describing the\n",
    "# response to images presented for the first time with beta weights\n",
    "# describing the response from the repetition of the same image. with 136\n",
    "# repeated conditions, the correlation for each voxel will reflect the"
   ]
  },
  {
   "cell_type": "markdown",
   "metadata": {},
   "source": [
    "## Compute median split-half reliabilty within the ROI for each beta version"
   ]
  },
  {
   "cell_type": "code",
   "execution_count": null,
   "metadata": {
    "scrolled": true
   },
   "outputs": [],
   "source": [
    "# finally, let's compute split-half reliability. we are going to loop\n",
    "# through our 4 models and calculate split-half reliability for each of them\n",
    "if run_reliability == 1:\n",
    "    \n",
    "    vox_reliabilities = [] # output variable for reliability values\n",
    "\n",
    "    modelnames = list(models.keys())#[1:]\n",
    "    print(modelnames)\n",
    "\n",
    "    # for each beta version...\n",
    "    for m in range(len(modelnames)):\n",
    "\n",
    "        print(f'computing reliability for beta version: {modelnames[m]}')\n",
    "        time.sleep(1)\n",
    "\n",
    "        # get the repeated-condition GLM betas using our repindices variable\n",
    "        betas = models[modelnames[m]][:,:,:,repindices] # automatically reshapes to (X x Y x Z x 2 x nConditions)\n",
    "        # betas = models[modelnames[m]]['betasmd'][:,None,None,:][:,:,:,repindices] # automatically reshapes to (X x Y x Z x 2 x nConditions)\n",
    "        x,y,z = betas.shape[:3] \n",
    "\n",
    "        rels = np.full((x,y,z),np.nan)\n",
    "\n",
    "        # loop through voxels in the 3D volume...\n",
    "        for xx in tqdm(range(x)):\n",
    "            for yy in range(y):\n",
    "                for zz in range(z):\n",
    "\n",
    "                    # reliability at a given voxel is pearson correlation between response profiles from first and \n",
    "                    # second image presentations (dim = 136 conditions)\n",
    "                    rels[xx,yy,zz] = np.corrcoef(betas[xx,yy,zz,0],\n",
    "                                                 betas[xx,yy,zz,1])[1,0]\n",
    "\n",
    "        vox_reliabilities.append(rels)"
   ]
  },
  {
   "cell_type": "code",
   "execution_count": null,
   "metadata": {},
   "outputs": [],
   "source": [
    "# load mask defining liberal visual cortex ROI\n",
    "mask = 'nsdgeneral'\n",
    "roi = []\n",
    "mask_file=maskdir + '/%s_%s.nii.gz' % (sub,mask)\n",
    "print(mask_file)\n",
    "mask_data=nib.load(mask_file)\n",
    "roi=mask_data.get_fdata()\n",
    "\n",
    "assert mask_data.header.get_zooms() == epi_dimsize[:3]\n",
    "assert mask_data.affine.all() == epi_data.affine.all()\n",
    "print('roi shape:', roi.shape)\n",
    "print(np.min(roi), np.max(roi))\n",
    "\n",
    "roi = roi.astype(float)\n",
    "# convert voxels outside ROI to nan for overlay plotting\n",
    "roi[roi==0] = np.nan \n",
    "print(np.nanmin(roi), np.nanmax(roi))\n",
    "print(roi.shape)\n",
    "\n",
    "roi = roi.flatten()\n",
    "brain_mask = avg_mask.get_fdata().flatten()\n",
    "roi = roi[brain_mask.astype(bool)]\n",
    "roi[np.isnan(roi)] = 0\n",
    "roi = roi.astype(bool)\n",
    "print(roi.shape)"
   ]
  },
  {
   "cell_type": "code",
   "execution_count": null,
   "metadata": {},
   "outputs": [],
   "source": [
    "# Save voxel reliabilities in NSDgeneral ROI\n",
    "if run_reliability == 1:\n",
    "    vox_rel_nsdgeneral = []\n",
    "    for vr in vox_reliabilities:\n",
    "        vox_rel_nsdgeneral.append(vr[avg_mask.get_fdata()==1][roi==True])\n",
    "        \n",
    "    np.save(join(savedir,'voxel_reliabilities_NSDgeneral.npy'), vox_rel_nsdgeneral)"
   ]
  },
  {
   "cell_type": "markdown",
   "metadata": {},
   "source": [
    "## Assess change in reliability yielded by GLMsingle"
   ]
  },
  {
   "cell_type": "code",
   "execution_count": null,
   "metadata": {},
   "outputs": [],
   "source": [
    "# for each GLM we will calculate median reliability for voxels within the\n",
    "# nsdgeneral visual ROI and compare using a bar graph\n",
    "if run_reliability == 1:\n",
    "    comparison = []\n",
    "    for vr in vox_reliabilities:\n",
    "        # comparison.append(np.nanmedian(vr)) \n",
    "        comparison.append(np.nanmedian(vr[avg_mask.get_fdata()==1][roi==True]))\n",
    "\n",
    "    plt.figure(figsize=(18,6))\n",
    "    plt.subplot(121)\n",
    "    plt.bar(np.arange(len(comparison)),comparison,width=0.5)\n",
    "    plt.title('Median voxel split-half reliability of GLM models')\n",
    "    plt.xticks(np.arange(4),np.array(['ASSUMEHRF','FITHRF', 'FITHRF\\nGLMDENOISE', 'FITHRF\\nGLMDENOISE\\nRR']))\n",
    "    #plt.ylim([0.1,0.2])"
   ]
  },
  {
   "cell_type": "code",
   "execution_count": null,
   "metadata": {},
   "outputs": [],
   "source": [
    "datasets = ['v1'] #glmsingle versions\n",
    "\n",
    "info = dict()\n",
    "info['v1'] = dict()\n",
    "info['v1']['subjs'] = ['sub-001']\n",
    "info['methods'] = ['assumehrf', 'fithrf', 'fithrf_glmdenoise', 'fithrf_glmdenoise_rr']\n"
   ]
  },
  {
   "cell_type": "code",
   "execution_count": null,
   "metadata": {},
   "outputs": [],
   "source": [
    "reliability = dict()\n",
    "\n",
    "#masks = np.load('masks.npy',allow_pickle=True).item() \n",
    "\n",
    "# check to be sure all the datafiles exist\n",
    "for ds in datasets:\n",
    "    \n",
    "    reliability[ds] = dict()\n",
    "    \n",
    "    for subj in info[ds]['subjs']:\n",
    "        \n",
    "        subj_version_list = []\n",
    "        \n",
    "        reliability[ds][subj] = dict()\n",
    "\n",
    "        # load this versions's data\n",
    "        if ds == 'v1':    \n",
    "            temp = np.load(join(savedir,'voxel_reliabilities_NSDgeneral.npy')) \n",
    "            method_list = ['assumehrf', 'fithrf', 'fithrf_glmdenoise', 'fithrf_glmdenoise_rr']\n",
    "        \n",
    "        for method in method_list:\n",
    "            if method == 'assumehrf':\n",
    "                idx=0\n",
    "            elif method == 'fithrf':\n",
    "                idx=1\n",
    "            elif method == 'fithrf_glmdenoise':\n",
    "                idx=2\n",
    "            elif method == 'fithrf_glmdenoise_rr':\n",
    "                if ds == 'v3':\n",
    "                    idx=2\n",
    "                else:\n",
    "                    idx=3\n",
    "\n",
    "            rel = temp[idx]\n",
    "            #rel = np.load(metric_savefn)\n",
    "                    \n",
    "            #mask = masks[ds][subj]==1\n",
    "            \n",
    "            #if np.ndim(rel) == 3:\n",
    "                #rel = rel[mask==1]\n",
    "                \n",
    "            print(ds,method,subj,rel.shape)\n",
    "            \n",
    "            reliability[ds][subj][method] = rel\n",
    "            \n",
    "            subj_version_list.append(rel)\n",
    "                       \n",
    "        reliability[ds][subj]['mean'] = np.mean(np.stack(subj_version_list,axis=1),axis=1)\n",
    "        \n",
    "        "
   ]
  },
  {
   "cell_type": "code",
   "execution_count": null,
   "metadata": {},
   "outputs": [],
   "source": [
    "draw_plots = True\n",
    "\n",
    "if draw_plots: \n",
    "    \n",
    "    x_version = 'assumehrf'\n",
    "    y_version = 'fithrf_glmdenoise_rr'\n",
    "\n",
    "    # iterate through datasets\n",
    "    for ds in datasets:\n",
    "        for subj in info[ds]['subjs']:\n",
    "\n",
    "            #x = helpers.reshape_nsdgeneral_to_volume(reliability[ds][subj][x_version], masks[ds][subj])\n",
    "            #y = helpers.reshape_nsdgeneral_to_volume(reliability[ds][subj][y_version], masks[ds][subj])\n",
    "            x = reliability[ds][subj][x_version]\n",
    "            y = reliability[ds][subj][y_version]\n",
    "\n",
    "            #x[masks[ds][subj] < 1] = np.nan\n",
    "            #y[masks[ds][subj] < 1] = np.nan\n",
    "\n",
    "            plt.figure(figsize=(4,4))\n",
    "            plt.grid('on')\n",
    "            plt.scatter(x, y, 10, alpha = 0.5)\n",
    "            plt.axis('square')\n",
    "\n",
    "            plt.plot(np.arange(-0.6,0.7,0.01),np.arange(-0.6,0.7,0.01),'r',linewidth=2.5,zorder=10)\n",
    "\n",
    "            if ds == 'mindeye':\n",
    "                ticks = (-0.3,0.8,0.4)\n",
    "            else:\n",
    "                ticks = (-0.3,1,0.4)\n",
    "\n",
    "            plt.xticks(np.round(np.arange(ticks[0],ticks[1],ticks[2]),2),\n",
    "                       np.round(np.arange(ticks[0],ticks[1],ticks[2]),2),fontsize=20)\n",
    "            plt.yticks(np.round(np.arange(ticks[0],ticks[1],ticks[2]),2),\n",
    "                       np.round(np.arange(ticks[0],ticks[1],ticks[2]),2),fontsize=20)\n",
    "\n",
    "            if ds == 'mindeye':\n",
    "                plt.xlim([-0.5,0.75])\n",
    "                plt.ylim([-0.5,0.75])\n",
    "            else:\n",
    "                plt.xlim([-0.5,1])\n",
    "                plt.ylim([-0.5,1])\n",
    "\n",
    "            # get rid of the frame\n",
    "            for spine in plt.gca().spines.values():\n",
    "                spine.set_visible(False)\n",
    "\n",
    "            "
   ]
  },
  {
   "cell_type": "code",
   "execution_count": null,
   "metadata": {},
   "outputs": [],
   "source": [
    "ft = 16\n",
    "\n",
    "versions = ['assumehrf','fithrf','fithrf_glmdenoise','fithrf_glmdenoise_rr']\n",
    "colors = ['dodgerblue','orange','limegreen','tomato']\n",
    "\n",
    "bins  = np.round(np.arange(-0.2,0.6,0.025),3)\n",
    "\n",
    "method = 'mean'\n",
    "min_nvox = 100\n",
    "\n",
    "allsubj_diffs = dict()\n",
    "\n",
    "# iterate through datasets\n",
    "for ds in ['v1']:\n",
    "    \n",
    "    allsubj_diffs[ds] = dict()\n",
    "    \n",
    "    for version in versions:\n",
    "        allsubj_diffs[ds][version] = []\n",
    "\n",
    "    # iterate through subjects\n",
    "    for subj in info[ds]['subjs']:\n",
    "                \n",
    "        plt.figure(figsize=(6,6))\n",
    "        \n",
    "        subj_mean_metric = reliability[ds][subj]['mean']\n",
    "        \n",
    "        subj_version_diffs = []\n",
    "        \n",
    "        # iterate through versions\n",
    "        v=0\n",
    "        for version in versions:\n",
    "            \n",
    "            this_version = reliability[ds][subj][version]\n",
    "            this_version_diffs = []\n",
    "            this_version_stds = []\n",
    "            for val in bins:\n",
    "           \n",
    "                validvox = subj_mean_metric > val\n",
    "                \n",
    "                if np.sum(validvox) > min_nvox:\n",
    "                    if method == 'mean':\n",
    "                        this_version_diffs.append(np.nanmean(this_version[validvox] - subj_mean_metric[validvox]))\n",
    "                    elif method == 'median':\n",
    "                        this_version_diffs.append(np.nanmedian(this_version[validvox] - subj_mean_metric[validvox]))\n",
    "                    this_version_stds.append(np.nanstd(this_version[validvox] - subj_mean_metric[validvox]))\n",
    "                else:\n",
    "                    this_version_diffs.append(np.nan)\n",
    "                    this_version_stds.append(np.nan)\n",
    "                    \n",
    "            \n",
    "            subj_version_diffs.append(this_version_diffs)\n",
    "            plt.plot(this_version_diffs,linewidth=12.5,color = colors[v],alpha=.9)\n",
    "            \n",
    "            v+=1\n",
    "            \n",
    "            allsubj_diffs[ds][version].append(this_version_diffs)\n",
    "                \n",
    "            \n",
    "        plt.plot(np.zeros((len(bins),)),'k--',linewidth=5)\n",
    "        plt.xticks(np.arange(len(bins))[::8],np.array(bins[::8]),fontsize=ft);\n",
    "        \n",
    "        plt.yticks(np.round(np.arange(-0.2,0.3,0.1),2),np.round(np.arange(-0.2,0.3,0.1),2),fontsize=33)\n",
    "        plt.ylim([-0.22,0.22])\n",
    "      \n",
    "        plt.xticks(fontsize=33)\n",
    "        plt.yticks(fontsize=33)\n",
    "        plt.grid('on')         \n",
    "        # get rid of the frame\n",
    "        for spine in plt.gca().spines.values():\n",
    "            spine.set_visible(False)\n",
    "     "
   ]
  },
  {
   "cell_type": "code",
   "execution_count": null,
   "metadata": {},
   "outputs": [],
   "source": []
  },
  {
   "cell_type": "code",
   "execution_count": null,
   "metadata": {},
   "outputs": [],
   "source": []
  },
  {
   "cell_type": "code",
   "execution_count": null,
   "metadata": {},
   "outputs": [],
   "source": []
  }
 ],
 "metadata": {
  "anaconda-cloud": {},
  "celltoolbar": "Edit Metadata",
  "kernelspec": {
   "display_name": "Python 3 (ipykernel)",
   "language": "python",
   "name": "python3"
  },
  "language_info": {
   "codemirror_mode": {
    "name": "ipython",
    "version": 3
   },
   "file_extension": ".py",
   "mimetype": "text/x-python",
   "name": "python",
   "nbconvert_exporter": "python",
   "pygments_lexer": "ipython3",
   "version": "3.9.21"
  }
 },
 "nbformat": 4,
 "nbformat_minor": 4
}
