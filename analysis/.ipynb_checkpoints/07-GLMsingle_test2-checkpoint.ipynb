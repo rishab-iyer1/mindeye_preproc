{
 "cells": [
  {
   "cell_type": "markdown",
   "metadata": {},
   "source": [
    "# GLMsingle: single-trial estimation in rapid event-related design\n",
    "\n",
    "This notebook is my attempt at applying the new GLMsingle toolbox to the SVD dataset. I am starting with the tutorial provided on the GLMsingle GitHub and modifying it for the SVD dataset. (LM)\n",
    "https://htmlpreview.github.io/?https://github.com/kendrickkay/GLMsingle/blob/main/examples/example1.html   \n",
    "\n",
    "By default, the tool implements a set of optimizations that improve upon generic GLM approaches by: (1) identifying an optimal hemodynamic response function (HRF) at each voxel, (2) deriving a set of useful GLM nuisance regressors via \"GLMdenoise\" and picking an optimal number to include in the final GLM, and (3) applying a custom amount of ridge regularization at each voxel using an efficient technique called \"fracridge\". The output of GLMsingle are GLM betas reflecting the estimated percent signal change in each voxel in response to each experimental stimulus or condition being modeled.\n",
    "\n",
    "Example 1 contains a full walkthrough of the process of loading an example dataset and design matrix, estimating neural responses using GLMsingle, estimating the reliability of responses at each voxel, and comparing those achieved via GLMsingle to those achieved using a baseline GLM. After loading and visualizing formatted fMRI time-series and their corresponding design matrices, we will describe the default behavior of GLMsingle and show how to modify hyperparameters if the user desires. Throughout the notebook we will highlight important metrics and outputs using figures, print statements, and comments.\n",
    "\n",
    "For \"test2\" we are going to try to use the data in it's original 4D format. "
   ]
  },
  {
   "cell_type": "code",
   "execution_count": 2,
   "metadata": {},
   "outputs": [],
   "source": [
    "# NOTE: To update scripts run:\n",
    "# pip install git+https://github.com/cvnlab/GLMsingle.git"
   ]
  },
  {
   "cell_type": "markdown",
   "metadata": {},
   "source": [
    "## A note about conda environments\n",
    "\n",
    "When running this notebook, make sure you have activated the sklearn24 conda environment."
   ]
  },
  {
   "cell_type": "markdown",
   "metadata": {},
   "source": [
    "## Define subject"
   ]
  },
  {
   "cell_type": "code",
   "execution_count": 3,
   "metadata": {},
   "outputs": [],
   "source": [
    "sub = 'sub-104'\n",
    "ses = 'ses-01'\n",
    "task='study'\n",
    "n_runs=6 #session 1 runs\n",
    "\n",
    "example = 0 #should we load example data?\n",
    "load_epi = 1 #should we load raw epi data? Make sure this is set to 1 if you need to run GLMsingle from the start"
   ]
  },
  {
   "cell_type": "markdown",
   "metadata": {},
   "source": [
    "## Import necessary packages"
   ]
  },
  {
   "cell_type": "code",
   "execution_count": 4,
   "metadata": {},
   "outputs": [
    {
     "data": {
      "application/javascript": [
       "IPython.notebook.set_autosave_interval(5000)"
      ]
     },
     "metadata": {},
     "output_type": "display_data"
    },
    {
     "name": "stdout",
     "output_type": "stream",
     "text": [
      "Autosaving every 5 seconds\n"
     ]
    }
   ],
   "source": [
    "import numpy as np\n",
    "import pandas as pd\n",
    "import nibabel as nib\n",
    "from nibabel import imagestats\n",
    "import nilearn\n",
    "from nilearn.input_data import NiftiMasker\n",
    "import scipy\n",
    "import scipy.stats as stats\n",
    "import scipy.io as sio\n",
    "import matplotlib.pyplot as plt\n",
    "\n",
    "import os\n",
    "from os.path import join, exists, split\n",
    "import sys\n",
    "import time\n",
    "import urllib.request\n",
    "import copy\n",
    "import warnings\n",
    "from tqdm import tqdm\n",
    "from pprint import pprint\n",
    "warnings.filterwarnings('ignore')\n",
    "\n",
    "import glmsingle\n",
    "from glmsingle.glmsingle import GLM_single\n",
    "\n",
    "%matplotlib inline \n",
    "%autosave 5\n",
    "#sns.set(style = 'white', context='poster', rc={\"lines.linewidth\": 2.5})"
   ]
  },
  {
   "cell_type": "markdown",
   "metadata": {},
   "source": [
    "~/miniconda3/envs/sklearn24/lib/python3.6/site-packages/glmsingle/utils/picksubset.py\n",
    "- edited line 38: notf = np.ones(m.flatten().shape, dtype=int)"
   ]
  },
  {
   "cell_type": "code",
   "execution_count": 5,
   "metadata": {},
   "outputs": [],
   "source": [
    "from glmsingle.utils import picksubset\n",
    "picksubset??"
   ]
  },
  {
   "cell_type": "code",
   "execution_count": 6,
   "metadata": {},
   "outputs": [],
   "source": [
    "from glmsingle.gmm import findtailthreshold\n",
    "findtailthreshold??"
   ]
  },
  {
   "cell_type": "markdown",
   "metadata": {},
   "source": [
    "## Set paths and load settings"
   ]
  },
  {
   "cell_type": "code",
   "execution_count": 7,
   "metadata": {},
   "outputs": [],
   "source": [
    "if example == 1:\n",
    "    \n",
    "    homedir = '/jukebox/norman/emcdevitt/glmsingle_example'\n",
    "\n",
    "    # create directories for saving data and outputs(EXAMPLE)\n",
    "    datadir = join(homedir,'examples','data')\n",
    "    outputdir = join(homedir,'examples','example1outputs')\n",
    "\n",
    "    os.makedirs(datadir,exist_ok=True)\n",
    "    os.makedirs(outputdir,exist_ok=True)\n",
    "\n",
    "    print(f'directory to save example dataset:\\n\\t{datadir}\\n')\n",
    "    print(f'directory to save example1 outputs:\\n\\t{outputdir}\\n')\n",
    "\n",
    "    # download example dataset from GLMsingle OSF repository\n",
    "    # data comes from the NSD dataset (subj01, nsd01 scan session).\n",
    "    # see: https://www.biorxiv.org/content/10.1101/2021.02.22.432340v1.full.pdf\n",
    "\n",
    "    datafn = join(datadir,'nsdcoreexampledataset.mat')\n",
    "\n",
    "    # to save time, we'll skip the download if the example dataset already exists on disk\n",
    "    if not exists(datafn):\n",
    "\n",
    "        print(f'Downloading example dataset and saving to:\\n{datafn}')\n",
    "\n",
    "        dataurl = 'https://osf.io/k89b2/download'\n",
    "\n",
    "        # download the .mat file to the specified directory\n",
    "        urllib.request.urlretrieve(dataurl, datafn)\n",
    "\n",
    "    # load struct containing example dataset\n",
    "    X = sio.loadmat(datafn)"
   ]
  },
  {
   "cell_type": "markdown",
   "metadata": {},
   "source": [
    "## Organize BOLD data, design matrices, metadata"
   ]
  },
  {
   "cell_type": "code",
   "execution_count": 8,
   "metadata": {},
   "outputs": [],
   "source": [
    "if example == 1:\n",
    "    \n",
    "    # variables that will contain bold time-series and design matrices from each run\n",
    "    data = []\n",
    "    design = []\n",
    "\n",
    "    # iterate through each run of data\n",
    "    for r in range(len(X['data'][0])):\n",
    "\n",
    "        # index into struct, append each run's timeseries data to list\n",
    "        data.append(X['data'][0,r])\n",
    "\n",
    "        # convert each run design matrix from sparse array to full numpy array, append\n",
    "        design.append(scipy.sparse.csr_matrix.toarray(X['design'][0,r]))\n",
    "\n",
    "    # get shape of data volume (XYZ) for convenience\n",
    "    xyz = data[0].shape[:3]\n",
    "    xyzt = data[0].shape\n",
    "\n",
    "    # get metadata about stimulus duration and TR\n",
    "    stimdur = X['stimdur'][0][0]\n",
    "    tr = X['tr'][0][0]\n",
    "\n",
    "    # get visual ROI mask identifying occipital cortex\n",
    "    roi = X['ROI']\n",
    "    "
   ]
  },
  {
   "cell_type": "code",
   "execution_count": 9,
   "metadata": {},
   "outputs": [],
   "source": [
    "if example == 1:\n",
    "    # plot example slice from run 1\n",
    "    plt.figure(figsize=(20,6))\n",
    "    plt.subplot(121)\n",
    "    plt.imshow(data[0][:,:,0,0])\n",
    "    plt.title('example slice from run 1',fontsize=16)\n",
    "    plt.subplot(122)\n",
    "    plt.imshow(data[11][:,:,0,0])\n",
    "    plt.title('example slice from run 12',fontsize=16)\n",
    "\n",
    "    # plot example design matrix from run 1\n",
    "    plt.figure(figsize=(20,20))\n",
    "    plt.imshow(design[0],interpolation='none')\n",
    "    plt.title('example design matrix from run 1',fontsize=16)\n",
    "    plt.xlabel('conditions',fontsize=16)\n",
    "    plt.ylabel('time (TR)',fontsize=16)"
   ]
  },
  {
   "cell_type": "markdown",
   "metadata": {},
   "source": [
    "- data[run#][x,y,z,t]\n",
    "- roi[x,y,z]\n",
    "- design[run#][TR,image#] \n",
    "\n",
    "note: in the design matrix, every row is an individual TR, and each distinct stimulus/condition (i.e. predictor) has its own column. There should be a column for every stimulus shown within a session, even if it doesn't occur during every run. \n",
    "\n",
    "A value of 1 in the design matrix indicates that the stimulus/condition occurred on a given TR."
   ]
  },
  {
   "cell_type": "code",
   "execution_count": 10,
   "metadata": {},
   "outputs": [],
   "source": [
    "example = 0\n",
    "stimdur = 1\n",
    "tr=1.5"
   ]
  },
  {
   "cell_type": "code",
   "execution_count": 11,
   "metadata": {},
   "outputs": [
    {
     "name": "stdout",
     "output_type": "stream",
     "text": [
      "directory to load preprocessed data from:\n",
      "\t/jukebox/norman/emcdevitt/studies/SVD/data/bids/Norman/McDevitt/7137_viodiff/v1.2.3_derivatives/fmriprep/sub-104/ses-01/func\n",
      "\n",
      "directory to save outputs:\n",
      "\t/jukebox/norman/emcdevitt/studies/SVD/data/bids/Norman/McDevitt/7137_viodiff/v1.2.3_derivatives/glmsingle\n",
      "\n"
     ]
    }
   ],
   "source": [
    "# derivatives directory\n",
    "homedir = '/jukebox/norman/emcdevitt/studies/SVD/data/bids/Norman/McDevitt/7137_viodiff'\n",
    "\n",
    "# datadir is fmriprep folder for this subject, outputdir is glmsingle derivatives\n",
    "datadir = join(homedir,'v1.2.3_derivatives','fmriprep',sub,ses,'func')\n",
    "maskdir = join(homedir,'v1.2.3_derivatives','firstlevel',sub,'masks')\n",
    "designdir = '/jukebox/norman/emcdevitt/studies/SVD/data/behavioral/regressor'\n",
    "outputdir = join(homedir,'v1.2.3_derivatives','glmsingle')\n",
    "\n",
    "# os.makedirs(outputdir,exist_ok=True)\n",
    "\n",
    "print(f'directory to load preprocessed data from:\\n\\t{datadir}\\n')\n",
    "print(f'directory to save outputs:\\n\\t{outputdir}\\n')"
   ]
  },
  {
   "cell_type": "markdown",
   "metadata": {},
   "source": [
    "I ran into an issue because of my small voxels, I have more than 1,000,000 \"voxels\" in my brain images (including voxels outside the brain)."
   ]
  },
  {
   "cell_type": "code",
   "execution_count": 12,
   "metadata": {},
   "outputs": [
    {
     "name": "stdout",
     "output_type": "stream",
     "text": [
      "Loading average brain mask: /jukebox/norman/emcdevitt/studies/SVD/data/bids/Norman/McDevitt/7137_viodiff/v1.2.3_derivatives/firstlevel/sub-104/masks/sub-104_ses-01_brain.nii.gz\n",
      "\n",
      "Mask dimensions: (1.5, 1.5, 1.5)\n",
      "\n",
      "Affine:\n",
      "[[   1.5    0.     0.   -74. ]\n",
      " [   0.     1.5    0.  -110.5]\n",
      " [   0.     0.     1.5  -53.5]\n",
      " [   0.     0.     0.     1. ]]\n",
      "\n",
      "There are 498249.0 voxels in the included brain mask\n",
      "\n"
     ]
    }
   ],
   "source": [
    "# Load brain mask\n",
    "file_in = maskdir + '/%s_%s_brain.nii.gz' % (sub, ses)\n",
    "avg_mask=nib.load(file_in)\n",
    "brain=avg_mask.get_fdata()\n",
    "#xyz=brain.shape #xyz dimensionality of brain mask and epi data\n",
    "\n",
    "print('Loading average brain mask:', file_in)\n",
    "print('')\n",
    "print('Mask dimensions:', avg_mask.header.get_zooms())\n",
    "print('')\n",
    "print('Affine:')\n",
    "print(avg_mask.affine)\n",
    "print('')\n",
    "print(f'There are {np.sum(brain)} voxels in the included brain mask\\n')"
   ]
  },
  {
   "cell_type": "code",
   "execution_count": 13,
   "metadata": {},
   "outputs": [
    {
     "name": "stdout",
     "output_type": "stream",
     "text": [
      "checking epi data for run 1: /jukebox/norman/emcdevitt/studies/SVD/data/bids/Norman/McDevitt/7137_viodiff/v1.2.3_derivatives/fmriprep/sub-104/ses-01/func/sub-104_ses-01_task-study_run-01_space-T1w_desc-preproc_bold.nii.gz\n",
      "\n",
      "Dimensions: (1.5, 1.5, 1.5, 1.5)\n",
      "Affine:\n",
      "[[   1.5    0.     0.   -74. ]\n",
      " [   0.     1.5    0.  -110.5]\n",
      " [   0.     0.     1.5  -53.5]\n",
      " [   0.     0.     0.     1. ]]\n",
      "\n",
      "(101, 126, 95)\n",
      "(101, 126, 95, 406)\n"
     ]
    }
   ],
   "source": [
    "# get some info about epi data by loading run 1\n",
    "epi_file=datadir + '/%s_%s_task-%s_run-01_space-T1w_desc-preproc_bold.nii.gz' % (sub,ses,task)\n",
    "epi_data=nib.load(epi_file)\n",
    "run1=epi_data.get_fdata()\n",
    "\n",
    "print('checking epi data for run 1:', epi_file)\n",
    "print('')\n",
    "epi_dimsize=epi_data.header.get_zooms()\n",
    "epi_affine=epi_data.affine\n",
    "print('Dimensions:', epi_dimsize)\n",
    "print('Affine:')\n",
    "print(epi_data.affine)\n",
    "print('')\n",
    "\n",
    "# get shape of data volume (XYZ) for convenience\n",
    "xyz = run1.shape[:3]\n",
    "xyzt = run1.shape\n",
    "print(xyz)\n",
    "print(xyzt)\n",
    "\n",
    "# double check that brain mask and epi data have same dimensions and affine\n",
    "assert avg_mask.header.get_zooms() == epi_dimsize[:3]\n",
    "assert avg_mask.affine.all() == epi_data.affine.all()\n"
   ]
  },
  {
   "cell_type": "code",
   "execution_count": 14,
   "metadata": {},
   "outputs": [
    {
     "name": "stdout",
     "output_type": "stream",
     "text": [
      "loading data for run 1 : /jukebox/norman/emcdevitt/studies/SVD/data/bids/Norman/McDevitt/7137_viodiff/v1.2.3_derivatives/fmriprep/sub-104/ses-01/func/sub-104_ses-01_task-study_run-01_space-T1w_desc-preproc_bold.nii.gz\n",
      "\n",
      "BOLD data shape: (101, 126, 95, 406)\n",
      "TRs in this run: 406\n",
      "label file shape: (18, 406)\n",
      "\n",
      "loading data for run 2 : /jukebox/norman/emcdevitt/studies/SVD/data/bids/Norman/McDevitt/7137_viodiff/v1.2.3_derivatives/fmriprep/sub-104/ses-01/func/sub-104_ses-01_task-study_run-02_space-T1w_desc-preproc_bold.nii.gz\n",
      "\n",
      "BOLD data shape: (101, 126, 95, 406)\n",
      "TRs in this run: 406\n",
      "label file shape: (18, 406)\n",
      "\n",
      "loading data for run 3 : /jukebox/norman/emcdevitt/studies/SVD/data/bids/Norman/McDevitt/7137_viodiff/v1.2.3_derivatives/fmriprep/sub-104/ses-01/func/sub-104_ses-01_task-study_run-03_space-T1w_desc-preproc_bold.nii.gz\n",
      "\n",
      "BOLD data shape: (101, 126, 95, 406)\n",
      "TRs in this run: 406\n",
      "label file shape: (18, 406)\n",
      "\n",
      "loading data for run 4 : /jukebox/norman/emcdevitt/studies/SVD/data/bids/Norman/McDevitt/7137_viodiff/v1.2.3_derivatives/fmriprep/sub-104/ses-01/func/sub-104_ses-01_task-study_run-04_space-T1w_desc-preproc_bold.nii.gz\n",
      "\n",
      "BOLD data shape: (101, 126, 95, 406)\n",
      "TRs in this run: 406\n",
      "label file shape: (18, 406)\n",
      "\n",
      "loading data for run 5 : /jukebox/norman/emcdevitt/studies/SVD/data/bids/Norman/McDevitt/7137_viodiff/v1.2.3_derivatives/fmriprep/sub-104/ses-01/func/sub-104_ses-01_task-study_run-05_space-T1w_desc-preproc_bold.nii.gz\n",
      "\n",
      "BOLD data shape: (101, 126, 95, 406)\n",
      "TRs in this run: 406\n",
      "label file shape: (18, 406)\n",
      "\n",
      "loading data for run 6 : /jukebox/norman/emcdevitt/studies/SVD/data/bids/Norman/McDevitt/7137_viodiff/v1.2.3_derivatives/fmriprep/sub-104/ses-01/func/sub-104_ses-01_task-study_run-06_space-T1w_desc-preproc_bold.nii.gz\n",
      "\n",
      "BOLD data shape: (101, 126, 95, 406)\n",
      "TRs in this run: 406\n",
      "label file shape: (18, 406)\n",
      "\n",
      "number of runs in BOLD data: 6\n",
      "number of runs in label data: 6\n"
     ]
    }
   ],
   "source": [
    "#epi_masker=NiftiMasker(mask_img=avg_mask)\n",
    "\n",
    "# variables that will contain bold time-series and design matrices from each run\n",
    "data = []\n",
    "label = []\n",
    "TR_run = []\n",
    "\n",
    "for run in range(n_runs):\n",
    "    \n",
    "    if load_epi == 1:\n",
    "        epi_file=datadir + '/%s_%s_task-%s_run-0%i_space-T1w_desc-preproc_bold.nii.gz' % (sub,ses,task,run+1)\n",
    "        print('loading data for run', run+1, ':', epi_file)\n",
    "        print('')\n",
    "        #epi_mask_data = epi_masker.fit_transform(epi_file)\n",
    "    \n",
    "        # alternate to NiftiMasker\n",
    "        # from nilearn.masking import apply_mask\n",
    "        # masked_data = apply_mask(epi_file, mask_img)\n",
    "    \n",
    "        #epi_mask_data = epi_mask_data.T #transpose to make it units,time\n",
    "        #print('epi data shape:', epi_mask_data.shape)\n",
    "    \n",
    "        epi_data=nib.load(epi_file)\n",
    "        epi=epi_data.get_fdata()\n",
    "        #data.append(epi_mask_data)\n",
    "        data.append(epi)\n",
    "        TR_run.append(epi_data.shape[3])\n",
    "        \n",
    "        print('BOLD data shape:', data[run].shape)\n",
    "        print('TRs in this run:', TR_run[run])\n",
    "    \n",
    "    # load regressor file for each run\n",
    "    # note: since each regressor has 9TRs trimmed from the beginning of the file,\n",
    "    # we are going to add 9 blank TRs back to the beginning of each file\n",
    "    \n",
    "    regressor_file=designdir + '/%s_%s_task-%s_regressor-noshift-trim9TRs-reshaped_run-0%i.mat' % (sub,ses,task,run+1)\n",
    "    stim_label = scipy.io.loadmat(regressor_file)\n",
    "    stim_label = np.array(stim_label['regressor'])\n",
    "    # add 9 TRs back to beginning of file\n",
    "    stim_label = np.concatenate((np.zeros((18,9), dtype=int),stim_label),axis=1) # trim label end\n",
    "    if load_epi == 1:\n",
    "        assert stim_label.shape[1] == epi_data.shape[3] #make sure number of timepoints matches\n",
    "    label.append(stim_label)\n",
    "    print('label file shape:', label[run].shape)\n",
    "    print('')\n",
    "    \n",
    "\n",
    "if load_epi == 1:\n",
    "    print('number of runs in BOLD data:', len(data))   \n",
    "print('number of runs in label data:', len(label))\n",
    "\n",
    "# get shape of data volume (XYZ) for convenience\n",
    "#xyz = data[0].shape[:3]\n",
    "#xyzt = data[0].shape"
   ]
  },
  {
   "cell_type": "code",
   "execution_count": 15,
   "metadata": {},
   "outputs": [
    {
     "name": "stdout",
     "output_type": "stream",
     "text": [
      "There are 6 runs in total\n",
      "\n",
      "XYZ dimensionality is: (101, 126, 95)\n",
      "\n",
      "The dimensions of the 4D data for each run are:\n",
      " (101, 126, 95, 406)\n",
      " (101, 126, 95, 406)\n",
      " (101, 126, 95, 406)\n",
      " (101, 126, 95, 406)\n",
      " (101, 126, 95, 406)\n",
      " (101, 126, 95, 406)\n",
      "\n",
      "The stimulus duration is 1 seconds\n",
      "\n",
      "The TR is 1.5 seconds\n",
      "\n",
      "There are 498249.0 voxels in the included brain mask\n",
      "\n",
      "Numeric precision of data is: <class 'numpy.ndarray'>\n",
      "\n"
     ]
    }
   ],
   "source": [
    "# print some relevant metadata\n",
    "if load_epi == 1:\n",
    "    print(f'There are {n_runs} runs in total\\n')\n",
    "    #print(f'N = {data[0].shape[1]} TRs per run\\n')\n",
    "    print(f'XYZ dimensionality is: {xyz}\\n')\n",
    "    print(f'The dimensions of the 4D data for each run are:\\n {data[0].shape}\\n {data[1].shape}\\n {data[2].shape}\\n {data[3].shape}\\n {data[4].shape}\\n {data[5].shape}\\n')\n",
    "    print(f'The stimulus duration is {stimdur} seconds\\n')\n",
    "    print(f'The TR is {tr} seconds\\n')\n",
    "    print(f'There are {np.sum(brain)} voxels in the included brain mask\\n')\n",
    "    #print(f'There are {np.sum(roi)} voxels in the included visual ROI\\n')\n",
    "    print(f'Numeric precision of data is: {type(data[0][0,0])}\\n')\n"
   ]
  },
  {
   "cell_type": "code",
   "execution_count": 16,
   "metadata": {},
   "outputs": [],
   "source": [
    "# # plot example slice from run 1 and run 6\n",
    "# z=45\n",
    "# plt.figure(figsize=(20,6))\n",
    "# plt.subplot(121)\n",
    "# plt.imshow(data[0][:,:,z,0])\n",
    "# plt.title('example slice from run 1',fontsize=16)\n",
    "# plt.subplot(122)\n",
    "# plt.imshow(data[5][:,:,z,0])\n",
    "# plt.title('example slice from run 6',fontsize=16)"
   ]
  },
  {
   "cell_type": "markdown",
   "metadata": {},
   "source": [
    "## info about rows in label file:\n",
    "row info found here: \n",
    "/jukebox/norman/emcdevitt/studies/SVD/data/behavioral/regressor/task-study_regRow_reshaped.mat\n",
    "note: every column is a TR in the label file\n",
    "\n",
    "* condition (prelearning=3, vio=1, nonvio=2)\n",
    "* repetition #\n",
    "* pairID (within-condition, within-run)\n",
    "* inter-pair-interval\n",
    "* order (A=1 or B=2)\n",
    "* lower (subcategory: indoor or outdoor, male or female)\n",
    "* upper (category: face=1 or scene=2)\n",
    "* imgID\n",
    "* learningBlk\n",
    "* trialNum\n",
    "* time (goal onset time)\n",
    "* response\n",
    "* RT\n",
    "* accuracy\n",
    "* TRs_original\n",
    "* TRs_trimmed\n",
    "* uniqueImgID\n",
    "* exposureNum"
   ]
  },
  {
   "cell_type": "code",
   "execution_count": 17,
   "metadata": {},
   "outputs": [
    {
     "name": "stdout",
     "output_type": "stream",
     "text": [
      "{'cond': 0, 'repetition': 1, 'pairID_orig': 2, 'ipi': 3, 'order': 4, 'subcategory': 5, 'category': 6, 'imgID': 7, 'learningBlk': 8, 'learningTrial': 9, 'time': 10, 'response': 11, 'rt': 12, 'accuracy': 13, 'tr_original': 14, 'tr_trimmed': 15, 'uniquePairID': 16, 'exposureNum': 17, 'index': 18}\n"
     ]
    }
   ],
   "source": [
    "study_row_labels={'cond': 0, 'repetition': 1, 'pairID_orig': 2, 'ipi': 3, 'order': 4, 'subcategory': 5,\n",
    "                'category': 6, 'imgID': 7, 'learningBlk': 8, 'learningTrial': 9, 'time': 10,\n",
    "                'response': 11, 'rt': 12, 'accuracy': 13, 'tr_original': 14, 'tr_trimmed': 15,\n",
    "                'uniquePairID': 16, 'exposureNum': 17, 'index': 18} #index and cond_orig rows to be added\n",
    "print(study_row_labels)"
   ]
  },
  {
   "cell_type": "code",
   "execution_count": 18,
   "metadata": {},
   "outputs": [
    {
     "name": "stdout",
     "output_type": "stream",
     "text": [
      "768\n",
      "number of B conditions: 576\n"
     ]
    }
   ],
   "source": [
    "# Version: model all As as repeats; all Bs, Xs and Ys are unique events\n",
    "# 96 pairs total, each B is shown 6 times during session 1\n",
    "n_A = 96\n",
    "n_B = 96*6\n",
    "n_X = 48\n",
    "n_Y = 48\n",
    "n_conditions = n_A+n_B+n_X+n_Y\n",
    "print(n_conditions)\n",
    "print('number of B conditions:', n_B)"
   ]
  },
  {
   "cell_type": "code",
   "execution_count": 19,
   "metadata": {},
   "outputs": [
    {
     "name": "stdout",
     "output_type": "stream",
     "text": [
      "uniquePairID, 1-48=cond1 and 49-96=cond2:\n",
      "[ 0.  1.  2.  3.  4.  5.  6.  7.  8. 49. 50. 51. 52. 53. 54. 55. 56.]\n",
      "\n",
      "uniquePairID, 1-48=cond1 and 49-96=cond2:\n",
      "[ 0.  9. 10. 11. 12. 13. 14. 15. 16. 57. 58. 59. 60. 61. 62. 63. 64.]\n",
      "\n",
      "uniquePairID, 1-48=cond1 and 49-96=cond2:\n",
      "[ 0. 17. 18. 19. 20. 21. 22. 23. 24. 65. 66. 67. 68. 69. 70. 71. 72.]\n",
      "\n",
      "uniquePairID, 1-48=cond1 and 49-96=cond2:\n",
      "[ 0. 25. 26. 27. 28. 29. 30. 31. 32. 73. 74. 75. 76. 77. 78. 79. 80.]\n",
      "\n",
      "uniquePairID, 1-48=cond1 and 49-96=cond2:\n",
      "[ 0. 33. 34. 35. 36. 37. 38. 39. 40. 81. 82. 83. 84. 85. 86. 87. 88.]\n",
      "\n",
      "uniquePairID, 1-48=cond1 and 49-96=cond2:\n",
      "[ 0. 41. 42. 43. 44. 45. 46. 47. 48. 89. 90. 91. 92. 93. 94. 95. 96.]\n",
      "\n"
     ]
    },
    {
     "data": {
      "image/png": "[encoded data removed]",
      "text/plain": [
       "<Figure size 1440x1440 with 1 Axes>"
      ]
     },
     "metadata": {
      "needs_background": "light"
     },
     "output_type": "display_data"
    },
    {
     "data": {
      "image/png": "[encoded data removed]",
      "text/plain": [
       "<Figure size 1440x1440 with 1 Axes>"
      ]
     },
     "metadata": {
      "needs_background": "light"
     },
     "output_type": "display_data"
    },
    {
     "data": {
      "image/png": "[encoded data removed]",
      "text/plain": [
       "<Figure size 1440x1440 with 1 Axes>"
      ]
     },
     "metadata": {
      "needs_background": "light"
     },
     "output_type": "display_data"
    },
    {
     "data": {
      "image/png": "[encoded data removed]",
      "text/plain": [
       "<Figure size 1440x1440 with 1 Axes>"
      ]
     },
     "metadata": {
      "needs_background": "light"
     },
     "output_type": "display_data"
    },
    {
     "data": {
      "image/png": "[encoded data removed]",
      "text/plain": [
       "<Figure size 1440x1440 with 1 Axes>"
      ]
     },
     "metadata": {
      "needs_background": "light"
     },
     "output_type": "display_data"
    },
    {
     "data": {
      "image/png": "[encoded data removed]",
      "text/plain": [
       "<Figure size 1440x1440 with 1 Axes>"
      ]
     },
     "metadata": {
      "needs_background": "light"
     },
     "output_type": "display_data"
    }
   ],
   "source": [
    "#design[run#][TR,image#]\n",
    "design = []\n",
    "Blist = [x for x in range(n_A, n_conditions)] # B items (including Xs and Ys) will be conditions 96-767\n",
    "\n",
    "for run in range(n_runs):\n",
    "    temp = np.zeros((data[run].shape[3],n_conditions), dtype=int)\n",
    "    \n",
    "    print('uniquePairID, 1-48=cond1 and 49-96=cond2:')\n",
    "    print(np.unique(label[run][study_row_labels['uniquePairID'],:])) # IDs 1-48=cond1, 49-96=cond2\n",
    "    print('')\n",
    "    \n",
    "    # A items will always be conditions 0-95\n",
    "    # B items will be conditions 96-671\n",
    "    # X and Y will be conditions 672-767\n",
    "    \n",
    "    # idx is TR, x is the uniquePairID\n",
    "    for idx, x in enumerate(label[run][study_row_labels['uniquePairID'],:]):\n",
    "        if x > 0: #if an image is shown\n",
    "            AorB = label[run][study_row_labels['order'],idx]\n",
    "            #print(idx, x, AorB)\n",
    "            if AorB == 1: #if it's an A item\n",
    "                temp[idx,int(x)] = 1\n",
    "            elif AorB == 2: #if it's a B item\n",
    "                # sample without replacement from Blist (sampling order doesn't need to be random)\n",
    "                this_condition = Blist[0]\n",
    "                del Blist[0]\n",
    "                temp[idx,this_condition] = 1\n",
    "    \n",
    "    design.append(temp)\n",
    "    \n",
    "    # plot design matrix\n",
    "    plt.figure(figsize=(20,20))\n",
    "    plt.imshow(temp,interpolation='none')\n",
    "    plt.title(' design matrix from run %i' %run, fontsize=16)\n",
    "    plt.xlabel('conditions',fontsize=16)\n",
    "    plt.ylabel('time (TR)',fontsize=16)       \n",
    "    \n",
    "    "
   ]
  },
  {
   "cell_type": "code",
   "execution_count": 20,
   "metadata": {},
   "outputs": [
    {
     "data": {
      "text/plain": [
       "array([[0, 0, 0, ..., 0, 0, 0],\n",
       "       [0, 0, 0, ..., 0, 0, 0],\n",
       "       [0, 0, 0, ..., 0, 0, 0],\n",
       "       ...,\n",
       "       [0, 0, 0, ..., 0, 0, 0],\n",
       "       [0, 0, 0, ..., 0, 0, 0],\n",
       "       [0, 0, 0, ..., 0, 0, 0]])"
      ]
     },
     "execution_count": 20,
     "metadata": {},
     "output_type": "execute_result"
    }
   ],
   "source": [
    "design[0] #save this to csv and check it"
   ]
  },
  {
   "cell_type": "markdown",
   "metadata": {},
   "source": [
    "## Run GLMsingle with default parameters to estimate single-trial betas"
   ]
  },
  {
   "cell_type": "code",
   "execution_count": 21,
   "metadata": {},
   "outputs": [],
   "source": [
    "# outputs and figures will be stored in a folder (you can specify its name\n",
    "# as the 5th output to GLMsingle). model estimates can be also\n",
    "# saved to the 'results' variable which is the only output of\n",
    "# GLMsingle.\n",
    "\n",
    "# optional parameters below can be assigned to a structure, i.e., opt =\n",
    "# dict('wantlibrary':1, 'wantglmdenoise':1); options are the 6th input to\n",
    "# GLMsingle.\n",
    "\n",
    "# there are many options that can be specified; here, we comment on the\n",
    "# main options that one might want to modify/set. defaults for the options\n",
    "# are indicated below.\n",
    "\n",
    "# wantlibrary = 1 -> fit HRF to each voxel \n",
    "# wantglmdenoise = 1 -> use GLMdenoise \n",
    "# wantfracridge = 1 -> use ridge regression to improve beta estimates \n",
    "# chunklen = 50000 -> is the number of voxels that we will\n",
    "#    process at the same time. for setups with lower memory, you may need to \n",
    "#    decrease this number.\n",
    "\n",
    "# wantmemoryoutputs is a logical vector [A B C D] indicating which of the\n",
    "#     four model types to return in the output <results>. the user must be\n",
    "#     careful with this, as large datasets can require a lot of RAM. if you\n",
    "#     do not request the various model types, they will be cleared from\n",
    "#     memory (but still potentially saved to disk). default: [0 0 0 1]\n",
    "#     which means return only the final type-D model.\n",
    "\n",
    "# wantfileoutputs is a logical vector [A B C D] indicating which of the\n",
    "#     four model types to save to disk (assuming that they are computed). A\n",
    "#     = 0/1 for saving the results of the ONOFF model, B = 0/1 for saving\n",
    "#     the results of the FITHRF model, C = 0/1 for saving the results of the\n",
    "#     FITHRF_GLMdenoise model, D = 0/1 for saving the results of the\n",
    "#     FITHRF_GLMdenoise_RR model. default: [1 1 1 1] which means save all\n",
    "#     computed results to disk.\n",
    "\n",
    "# numpcstotry (optional) is a non-negative integer indicating the maximum\n",
    "#     number of GLMdenoise PCs to enter into the model. default: 10.\n",
    "\n",
    "# fracs (optional) is a vector of fractions that are greater than 0\n",
    "#     and less than or equal to 1. we automatically sort in descending\n",
    "#     order and ensure the fractions are unique. these fractions indicate\n",
    "#     the regularization levels to evaluate using fractional ridge\n",
    "#     regression (fracridge) and cross-validation. default:\n",
    "#     fliplr(.05:.05:1). a special case is when <fracs> is specified as a\n",
    "#     single scalar value. in this case, cross-validation is NOT performed\n",
    "#     for the type-D model, and we instead blindly use the supplied\n",
    "#     fractional value for the type-D model."
   ]
  },
  {
   "cell_type": "code",
   "execution_count": 22,
   "metadata": {},
   "outputs": [
    {
     "name": "stdout",
     "output_type": "stream",
     "text": [
      "{'R2thresh': 0,\n",
      " 'brainR2': [],\n",
      " 'brainexclude': False,\n",
      " 'brainthresh': [99.0, 0.1],\n",
      " 'chunklen': 50000,\n",
      " 'extra_regressors': False,\n",
      " 'fracs': array([1.  , 0.95, 0.9 , 0.85, 0.8 , 0.75, 0.7 , 0.65, 0.6 , 0.55, 0.5 ,\n",
      "       0.45, 0.4 , 0.35, 0.3 , 0.25, 0.2 , 0.15, 0.1 , 0.05]),\n",
      " 'hrffitmask': 1,\n",
      " 'hrfmodel': 'optimise',\n",
      " 'hrfthresh': 0.5,\n",
      " 'lambda': 0,\n",
      " 'n_boots': 100,\n",
      " 'n_jobs': 1,\n",
      " 'n_pcs': 10,\n",
      " 'numforhrf': 50,\n",
      " 'pcR2cutoff': [],\n",
      " 'pcR2cutoffmask': 1,\n",
      " 'pcstop': 1.05,\n",
      " 'seed': 1652299655.6921387,\n",
      " 'suppressoutput': 0,\n",
      " 'wantautoscale': 1,\n",
      " 'wantfileoutputs': [1, 1, 1, 1],\n",
      " 'wantfracridge': 1,\n",
      " 'wantglmdenoise': 1,\n",
      " 'wanthdf5': 0,\n",
      " 'wantlibrary': 1,\n",
      " 'wantlss': 0,\n",
      " 'wantmemoryoutputs': [1, 1, 1, 1],\n",
      " 'wantparametric': 0,\n",
      " 'wantpercentbold': 1}\n"
     ]
    }
   ],
   "source": [
    "# create a directory for saving GLMsingle outputs\n",
    "#outputdir_glmsingle = join(homedir,'examples','example1outputs','GLMsingle')\n",
    "outputdir_glmsingle = join(homedir,'v1.2.3_derivatives','glmsingle_4D', sub, ses)\n",
    "figuredir_glmsingle = join(homedir,'v1.2.3_derivatives','glmsingle_4D', 'figures', sub, ses)\n",
    "#os.makedirs(outputdir,exist_ok=True)\n",
    "\n",
    "opt = dict()\n",
    "\n",
    "# set important fields for completeness (but these would be enabled by default)\n",
    "opt['wantlibrary'] = 1\n",
    "opt['wantglmdenoise'] = 1\n",
    "opt['wantfracridge'] = 1\n",
    "\n",
    "# for the purpose of this example we will keep the relevant outputs in memory\n",
    "# and also save them to the disk\n",
    "opt['wantfileoutputs'] = [1,1,1,1]\n",
    "opt['wantmemoryoutputs'] = [1,1,1,1]\n",
    "#opt['wanthdf5'] = 1\n",
    "\n",
    "# running python GLMsingle involves creating a GLM_single object\n",
    "# and then running the procedure using the .fit() routine\n",
    "glmsingle_obj = GLM_single(opt)\n",
    "\n",
    "# visualize all the hyperparameters\n",
    "pprint(glmsingle_obj.params)"
   ]
  },
  {
   "cell_type": "markdown",
   "metadata": {},
   "source": [
    "~/miniconda3/envs/sklearn24/lib/python3.6/site-packages/glmsingle/gmm/findtailthreshold.py\n",
    "- edited line 38: maxsz = 1500000  # maximum number of values to consider"
   ]
  },
  {
   "cell_type": "code",
   "execution_count": 23,
   "metadata": {},
   "outputs": [
    {
     "name": "stdout",
     "output_type": "stream",
     "text": [
      "shape of data before running GLMsingle\n",
      "(101, 126, 95, 406)\n"
     ]
    }
   ],
   "source": [
    "print('shape of data before running GLMsingle')\n",
    "print(data[0].shape)"
   ]
  },
  {
   "cell_type": "code",
   "execution_count": null,
   "metadata": {},
   "outputs": [
    {
     "name": "stdout",
     "output_type": "stream",
     "text": [
      "saving outputs to /jukebox/norman/emcdevitt/studies/SVD/data/bids/Norman/McDevitt/7137_viodiff/v1.2.3_derivatives/glmsingle_4D/sub-104/ses-01\n",
      "running GLMsingle...\n",
      "*** FITTING TYPE-A MODEL (ONOFF) ***\n",
      "\n",
      "fitting model...\n",
      "done.\n",
      "\n",
      "preparing output...\n",
      "done.\n",
      "\n",
      "computing model fits...\n",
      "done.\n",
      "\n",
      "computing R^2...\n"
     ]
    }
   ],
   "source": [
    "# ADD FIGUREDUR\n",
    "# Try running with brainexclude=avg_mask\n",
    "# if it crashes, then increase max to 1,500,000\n",
    "\n",
    "# this example saves output files to the outputdir folder\n",
    "# if these outputs don't already exist, we will perform the time-consuming call to GLMsingle;\n",
    "# otherwise, we will just load from disk.\n",
    "\n",
    "start_time = time.time()\n",
    "\n",
    "if not exists(outputdir_glmsingle):\n",
    "    print('saving outputs to', outputdir_glmsingle)\n",
    "    print(f'running GLMsingle...')\n",
    "    \n",
    "    # run GLMsingle\n",
    "    results_glmsingle = glmsingle_obj.fit(\n",
    "       design,\n",
    "       data,\n",
    "       stimdur,\n",
    "       tr,\n",
    "       outputdir=outputdir_glmsingle) \n",
    "       #figuredir=figuredir_glmsingle\n",
    "    \n",
    "    # we assign outputs of GLMsingle to the \"results_glmsingle\" variable.\n",
    "    # note that results_glmsingle['typea'] contains GLM estimates from an ONOFF model,\n",
    "    # where all images are treated as the same condition. these estimates\n",
    "    # could be potentially used to find cortical areas that respond to\n",
    "    # visual stimuli. we want to compare beta weights between conditions\n",
    "    # therefore we are not going to include the ONOFF betas in any analyses of \n",
    "    # voxel reliability\n",
    "    \n",
    "else:\n",
    "    print(f'loading existing GLMsingle outputs from directory:\\n\\t{outputdir_glmsingle}')\n",
    "    # takes about 2 minutes to load\n",
    "    \n",
    "    # load existing file outputs if they exist\n",
    "    results_glmsingle = dict()\n",
    "    results_glmsingle['typea'] = np.load(join(outputdir_glmsingle,'TYPEA_ONOFF.npy'),allow_pickle=True).item()\n",
    "    results_glmsingle['typeb'] = np.load(join(outputdir_glmsingle,'TYPEB_FITHRF.npy'),allow_pickle=True).item()\n",
    "    results_glmsingle['typec'] = np.load(join(outputdir_glmsingle,'TYPEC_FITHRF_GLMDENOISE.npy'),allow_pickle=True).item()\n",
    "    results_glmsingle['typed'] = np.load(join(outputdir_glmsingle,'TYPED_FITHRF_GLMDENOISE_RR.npy'),allow_pickle=True).item()\n",
    "\n",
    "elapsed_time = time.time() - start_time\n",
    "\n",
    "print(\n",
    "    '\\telapsed time: ',\n",
    "    f'{time.strftime(\"%H:%M:%S\", time.gmtime(elapsed_time))}'\n",
    ")"
   ]
  },
  {
   "cell_type": "code",
   "execution_count": null,
   "metadata": {},
   "outputs": [],
   "source": [
    "results_glmsingle['typea']['onoffR2'].shape"
   ]
  },
  {
   "cell_type": "code",
   "execution_count": null,
   "metadata": {},
   "outputs": [],
   "source": [
    "onoffR2 = results_glmsingle['typea']['onoffR2']\n",
    "onoffR2.shape"
   ]
  },
  {
   "cell_type": "code",
   "execution_count": null,
   "metadata": {},
   "outputs": [],
   "source": [
    "v = onoffR2.flatten()\n",
    "v"
   ]
  },
  {
   "cell_type": "code",
   "execution_count": null,
   "metadata": {},
   "outputs": [],
   "source": [
    "v_v = v.flatten()\n",
    "v_v.shape"
   ]
  },
  {
   "cell_type": "code",
   "execution_count": null,
   "metadata": {},
   "outputs": [],
   "source": [
    "v2 = v[np.isfinite(v)]\n",
    "v2 = np.asarray(v2)\n",
    "v2.dtype"
   ]
  },
  {
   "cell_type": "code",
   "execution_count": 188,
   "metadata": {},
   "outputs": [
    {
     "name": "stdout",
     "output_type": "stream",
     "text": [
      "shape of data after running GLMsingle\n",
      "(1208970, 406)\n"
     ]
    }
   ],
   "source": [
    "print('shape of data after running GLMsingle')\n",
    "print(data[0].shape)"
   ]
  },
  {
   "cell_type": "code",
   "execution_count": null,
   "metadata": {},
   "outputs": [],
   "source": [
    "foo = v2.reshape(-1, 1)\n",
    "foo.shape"
   ]
  },
  {
   "cell_type": "markdown",
   "metadata": {},
   "source": [
    "## Summary of important outputs\n",
    "\n",
    "the outputs of GLMsingle are formally documented in its header. here, we highlight a few of the more important outputs:\n",
    "\n",
    "* R2 -> is model accuracy expressed in terms of R^2 (percentage).\n",
    "\n",
    "* betasmd -> is the full set of single-trial beta weights (X x Y x Z x TRIALS). beta weights are arranged in chronological order.\n",
    "\n",
    "* HRFindex -> is the 1-index of the best fit HRF. HRFs can be recovered with getcanonicalHRFlibrary(stimdur,tr)\n",
    "\n",
    "* FRACvalue -> is the fractional ridge regression regularization level chosen for each voxel. values closer to 1 mean less regularization."
   ]
  },
  {
   "cell_type": "code",
   "execution_count": null,
   "metadata": {},
   "outputs": [],
   "source": [
    "# GLMsingle output is in 2D format (voxels,samples)\n",
    "# we need to unmask the data to get it back into 3D/4D format:\n",
    "# X = nilearn.masking.unmask(results_glmsingle['typeb']['HRFindex'], avg_mask)\n",
    "# X_hrf = X.get_fdata()"
   ]
  },
  {
   "cell_type": "code",
   "execution_count": null,
   "metadata": {},
   "outputs": [],
   "source": [
    "# # convert everything back to 3D/4D array format\n",
    "# model_types = ['typea','typeb','typec','typed']\n",
    "\n",
    "# results_glmsingle_3D = dict()\n",
    "\n",
    "# for model in range(len(model_types)):\n",
    "#     results_glmsingle_3D[model_types[model]] = dict()\n",
    "#     if model == 0: #type A\n",
    "#         plot_fields = ['betasmd','onoffR2']\n",
    "#     elif model == 1: #type B\n",
    "#         plot_fields = ['betasmd','R2','HRFindex']\n",
    "#     elif model == 2: #type C\n",
    "#         plot_fields = ['betasmd','R2','HRFindex']\n",
    "#     elif model == 3: #type C\n",
    "#         plot_fields = ['betasmd','R2','HRFindex','FRACvalue']\n",
    "#     print(model_types[model])\n",
    "#     for i in range(len(plot_fields)):\n",
    "#         print(plot_fields[i])\n",
    "#         unmask_data = nilearn.masking.unmask(results_glmsingle[model_types[model]][plot_fields[i]].T, avg_mask)\n",
    "#         results_glmsingle_3D[model_types[model]][plot_fields[i]] = unmask_data.get_fdata()\n",
    "#         print('shape of unmasked data:', results_glmsingle_3D[model_types[model]][plot_fields[i]].shape)\n",
    "#         print('')"
   ]
  },
  {
   "cell_type": "markdown",
   "metadata": {},
   "source": [
    "## Plot a slice of brain showing GLMsingle outputs"
   ]
  },
  {
   "cell_type": "code",
   "execution_count": null,
   "metadata": {},
   "outputs": [],
   "source": [
    "# Plot a slice showing ONOFF betas (this should correspond to areas that respond to visual stimulus)\n",
    "z=30\n",
    "plot_fields = ['betasmd','onoffR2']\n",
    "colormaps = ['RdBu_r','hot']\n",
    "clims = [[-5,5],[0,10]]\n",
    "\n",
    "plt.figure(figsize=(12,8))\n",
    "for i in range(len(plot_fields)):\n",
    "    \n",
    "    plt.subplot(2,2,i+1)\n",
    "\n",
    "    plot_data = np.squeeze(results_glmsingle['typea'][plot_fields[i]].reshape(xyz))\n",
    "    print('plot_data shape after reshaping:', plot_data.shape)\n",
    "    titlestr = plot_fields[i]\n",
    "    \n",
    "    plt.imshow(plot_data[:,:,z],cmap=colormaps[i],clim=clims[i])\n",
    "    plt.colorbar()\n",
    "    plt.title(titlestr)\n",
    "    #plt.axis(False)\n",
    "    plt.axis('off')"
   ]
  },
  {
   "cell_type": "code",
   "execution_count": null,
   "metadata": {},
   "outputs": [],
   "source": [
    "# we are going to plot several outputs from the FIT_HRF_GLMdenoise_RR GLM,\n",
    "# which contains the full set of GLMsingle optimizations.\n",
    "\n",
    "# we will plot betas, R2, optimal HRF indices, and the voxel frac values\n",
    "plot_fields = ['betasmd','R2','HRFindex','FRACvalue']\n",
    "colormaps = ['RdBu_r','hot','jet','copper']\n",
    "clims = [[-5,5],[0,85],[0,20],[0,1]]\n",
    "\n",
    "# choose a slice\n",
    "z=30\n",
    "\n",
    "plt.figure(figsize=(12,8))\n",
    "\n",
    "for i in range(len(plot_fields)):\n",
    "    \n",
    "    plt.subplot(2,2,i+1)\n",
    "    \n",
    "    if i == 0:\n",
    "        # when plotting betas, for simplicity just average across all image presentations\n",
    "        # this will yield a summary of whether voxels tend to increase or decrease their \n",
    "        # activity in response to the experimental stimuli (similar to outputs from \n",
    "        # an ONOFF GLM)\n",
    "        #plot_data = np.nanmean(np.squeeze(plot_array),3)\n",
    "        num_trials = results_glmsingle['typed'][plot_fields[i]].shape[3]\n",
    "        plot_data = np.nanmean(np.squeeze(results_glmsingle['typed'][plot_fields[i]]),3) #3 is trial dimension\n",
    "        print('plot_data shape after averaging across trials:', plot_data.shape)\n",
    "        titlestr = 'average GLM betas (%d trials)' %num_trials\n",
    "    \n",
    "    else:\n",
    "        # plot all other voxel-wise metrics as outputted from GLMsingle\n",
    "        #plot_data = np.squeeze(plot_array.reshape(xyz))\n",
    "        plot_data = np.squeeze(results_glmsingle['typed'][plot_fields[i]].reshape(xyz))\n",
    "        print('plot_data shape after reshaping:', plot_data.shape)\n",
    "        titlestr = plot_fields[i]\n",
    "    \n",
    "    plt.imshow(plot_data[:,:,z],cmap=colormaps[i],clim=clims[i])\n",
    "    plt.colorbar()\n",
    "    plt.title(titlestr)\n",
    "    #plt.axis(False)\n",
    "    plt.axis('off')"
   ]
  },
  {
   "cell_type": "markdown",
   "metadata": {},
   "source": [
    "## Run a baseline GLM to compare with GLMsingle outputs"
   ]
  },
  {
   "cell_type": "code",
   "execution_count": null,
   "metadata": {},
   "outputs": [],
   "source": [
    "# for comparison purposes we are going to run a standard GLM\n",
    "# without HRF fitting, GLMdenoise, or ridge regression regularization. we\n",
    "# will compute the split-half reliability at each voxel using this baseline\n",
    "# GLM, and then assess whether reliability improves using the output betas\n",
    "# from GLMsingle. \n",
    "\n",
    "# output directory for baseline GLM\n",
    "outputdir_baseline = join(homedir,'v1.2.3_derivatives','glmsingle_4D', 'glmbaseline', sub, ses)\n",
    "figuredir_baseline = join(homedir,'v1.2.3_derivatives','glmsingle_4D', 'glmbaseline', 'figures', sub, ses)\n",
    "\n",
    "# we will run this baseline GLM by changing the default settings in GLMsingle \n",
    "# contained within the \"opt\" structure.\n",
    "opt = dict() \n",
    "\n",
    "# turn off optimizations \n",
    "opt['wantlibrary'] = 0 # switch off HRF fitting\n",
    "opt['wantglmdenoise'] = 0 # switch off GLMdenoise\n",
    "opt['wantfracridge'] = 0 # switch off ridge regression\n",
    "\n",
    "\n",
    "# for the purpose of this example we will keep the relevant outputs in memory\n",
    "# and also save them to the disk...\n",
    "# the first two indices are the ON-OFF GLM and the baseline single-trial GLM. \n",
    "# no need to save the third (+ GLMdenoise) and fourth (+ fracridge) outputs\n",
    "# since they will not even be computed\n",
    "opt['wantmemoryoutputs'] = [1,1,0,0] \n",
    "opt['wantfileoutputs'] = [1,1,0,0]\n",
    "\n",
    "# running python GLMsingle involves creating a GLM_single object\n",
    "# and then running the procedure using the .fit() routine\n",
    "glmbaseline_obj = GLM_single(opt)\n",
    "\n",
    "# visualize the hyperparameters, including the modified baseline opts\n",
    "pprint(glmbaseline_obj.params)"
   ]
  },
  {
   "cell_type": "code",
   "execution_count": null,
   "metadata": {},
   "outputs": [],
   "source": [
    "start_time = time.time()\n",
    "\n",
    "# if these outputs don't already exist, we will perform the call to\n",
    "# GLMsingle; otherwise, we will just load from disk.\n",
    "if not exists(outputdir_baseline):\n",
    "    \n",
    "    print(f'running GLMsingle...')\n",
    "\n",
    "    # run GLMsingle, fitting the baseline GLM\n",
    "    results_assumehrf = glmbaseline_obj.fit(\n",
    "       design,\n",
    "       data,\n",
    "       stimdur,\n",
    "       tr,\n",
    "       outputdir=outputdir_baseline,\n",
    "       figuredir=figuredir_baseline)\n",
    "    \n",
    "else:\n",
    "    \n",
    "    print(f'loading existing GLMsingle outputs from directory:\\n\\t{outputdir_baseline}')\n",
    "    \n",
    "    results_assumehrf = dict()\n",
    "    results_assumehrf['typea'] = np.load(join(outputdir_baseline,'TYPEA_ONOFF.npy'),allow_pickle=True).item()\n",
    "    results_assumehrf['typeb'] = np.load(join(outputdir_baseline,'TYPEB_FITHRF.npy'),allow_pickle=True).item()\n",
    "    \n",
    "    # note that even though we are loading TYPEB_FITHRF betas, HRF fitting\n",
    "    # has been turned off and this struct field will thus contain the\n",
    "    # outputs of a GLM fit using the canonical HRF.\n",
    "    \n",
    "elapsed_time = time.time() - start_time\n",
    "print(\n",
    "    '\\telapsed time: ',\n",
    "    f'{time.strftime(\"%H:%M:%S\", time.gmtime(elapsed_time))}'\n",
    ")"
   ]
  },
  {
   "cell_type": "code",
   "execution_count": null,
   "metadata": {},
   "outputs": [],
   "source": [
    "# # convert back to 3D/4D array format\n",
    "# model_types = ['typea','typeb']\n",
    "\n",
    "# results_assumehrf_3D = dict()\n",
    "\n",
    "# for model in range(len(model_types)):\n",
    "#     results_assumehrf_3D[model_types[model]] = dict()\n",
    "#     if model == 0: #type A\n",
    "#         plot_fields = ['betasmd','onoffR2']\n",
    "#     elif model == 1: #type B\n",
    "#         plot_fields = ['betasmd','R2','HRFindex']\n",
    "#     print(model_types[model])\n",
    "#     for i in range(len(plot_fields)):\n",
    "#         print(plot_fields[i])\n",
    "#         unmask_data = nilearn.masking.unmask(results_assumehrf[model_types[model]][plot_fields[i]].T, avg_mask)\n",
    "#         results_assumehrf_3D[model_types[model]][plot_fields[i]] = unmask_data.get_fdata()\n",
    "#         print('shape of unmasked data:', results_assumehrf_3D[model_types[model]][plot_fields[i]].shape)\n",
    "#         print('')"
   ]
  },
  {
   "cell_type": "code",
   "execution_count": null,
   "metadata": {},
   "outputs": [],
   "source": [
    "# create dictionary containing the GLM betas from the four different models we will compare.\n",
    "# note that the \"assume hrf\" betas come from the \"typeb\" field of our baseline GLM\n",
    "# (with HRF fitting turned off), and that the \"fit hrf\" betas also come from \n",
    "# the \"typeb\" field of the GLM that ran with all default GLMsingle routines\n",
    "# enabled\n",
    "\n",
    "models = dict()\n",
    "models['assumehrf'] = results_assumehrf['typeb']['betasmd'].reshape(xyz + (num_trials,))\n",
    "models['fithrf'] = results_glmsingle['typeb']['betasmd']\n",
    "models['fithrf_glmdenoise'] = results_glmsingle['typec']['betasmd']\n",
    "models['fithrf_glmdenoise_rr'] = results_glmsingle['typed']['betasmd']"
   ]
  },
  {
   "cell_type": "markdown",
   "metadata": {},
   "source": [
    "## Get indices of repeated conditions to use for reliability calculations"
   ]
  },
  {
   "cell_type": "code",
   "execution_count": null,
   "metadata": {},
   "outputs": [],
   "source": [
    "# to compare the results of different GLMs we are going to calculate the\n",
    "# voxel-wise split-half reliablity for each model. reliability values\n",
    "# reflect a correlation between beta weights for repeated presentations of\n",
    "# the same conditions. in short, we are going to check how\n",
    "# reliable/reproducible are the single trial responses to repeated\n",
    "# conditions estimated with each GLM type.\n",
    "\n",
    "# this NSD scan session has a large number of images that are just shown\n",
    "# once during the session, some images that are shown twice, and a few that\n",
    "# are shown three times. in the code below, we are attempting to locate the\n",
    "# indices in the beta weight GLMsingle outputs modelmd(x,y,z,trials) that\n",
    "# correspond to repeated images. here we only consider stimuli that have\n",
    "# been presented at least twice. for the purpose of the example we ignore\n",
    "# the 3rd repetition of the stimulus.\n",
    "\n",
    "# consolidate design matrices\n",
    "designALL = np.concatenate(design,axis=0)\n",
    "\n",
    "# construct a vector containing 0-indexed condition numbers in chronological order\n",
    "corder = []\n",
    "for p in range(designALL.shape[0]):\n",
    "    if np.any(designALL[p]):\n",
    "        corder.append(np.argwhere(designALL[p])[0,0])\n",
    "        \n",
    "corder = np.array(corder)"
   ]
  },
  {
   "cell_type": "code",
   "execution_count": null,
   "metadata": {},
   "outputs": [],
   "source": [
    "# let's take a look at the first few entries\n",
    "print(corder[:3])\n",
    "\n",
    "# note that [374 496 7] means that the first stimulus trial involved\n",
    "# presentation of the 374th condition (zero-indexed), the second stimulus trial \n",
    "# involved presentation of the 496th condition, and so on."
   ]
  },
  {
   "cell_type": "code",
   "execution_count": null,
   "metadata": {},
   "outputs": [],
   "source": [
    "# in order to compute split-half reliability, we have to do some indexing.\n",
    "# we want to find images with least two repetitions and then prepare a\n",
    "# useful matrix of indices that refer to when these occur.\n",
    "\n",
    "repindices = [] # 4 x images containing stimulus trial indices.\n",
    "\n",
    "# the first row refers to the first presentation; the second row refers to\n",
    "# the second presentation.\n",
    "for p in range(designALL.shape[1]): # loop over every condition\n",
    "    \n",
    "    temp = np.argwhere(corder==p)[:,0] # find indices where this condition was shown\n",
    "    \n",
    "    # only add repeated conditions to repindices\n",
    "    if len(temp) >= 2:\n",
    "        repindices.append([temp[0], temp[1], temp[2], temp[3]]) # note that for now we only look at first 4 repetitions of A \n",
    "\n",
    "repindices = np.vstack(np.array(repindices)).T   \n",
    "print(repindices.shape)"
   ]
  },
  {
   "cell_type": "code",
   "execution_count": null,
   "metadata": {},
   "outputs": [],
   "source": [
    "# let's take a look at a few entries\n",
    "print(repindices[:,:3])\n",
    "\n",
    "# notice that the first condition is presented on the 2nd zero-indexed \n",
    "# stimulus trial and the 34th, 56th, and 90th stimulus trial, the second condition is presented on the\n",
    "# 4th and 36th, 54th and 78th stimulus trials, and so on.\n",
    "\n",
    "print(f'there are {repindices.shape[1]} repeated conditions in the experiment')\n",
    "\n",
    "# now, for each voxel we are going to correlate beta weights describing the\n",
    "# response to images presented for the first time with beta weights\n",
    "# describing the response from the repetition of the same image. with 136\n",
    "# repeated conditions, the correlation for each voxel will reflect the\n",
    "# relationship between two vectors with 136 beta weights each."
   ]
  },
  {
   "cell_type": "markdown",
   "metadata": {},
   "source": [
    "## Visualize corticle ROI defining visually-responsive areas"
   ]
  },
  {
   "cell_type": "code",
   "execution_count": null,
   "metadata": {},
   "outputs": [],
   "source": [
    "# load mask\n",
    "mask = 'bilateral_oc-temp'\n",
    "roi = []\n",
    "mask_file=maskdir + '/%s_%s.nii.gz' % (sub,mask)\n",
    "mask_data=nib.load(mask_file)\n",
    "roi=mask_data.get_fdata()\n",
    "\n",
    "assert mask_data.header.get_zooms() == epi_dimsize[:3]\n",
    "assert mask_data.affine.all() == epi_data.affine.all()\n",
    "print('roi shape:', roi.shape)\n",
    "print(np.min(roi), np.max(roi))"
   ]
  },
  {
   "cell_type": "code",
   "execution_count": null,
   "metadata": {},
   "outputs": [],
   "source": [
    "octemp_roi = roi.astype(float)\n",
    "# convert voxels outside ROI to nan for overlay plotting\n",
    "octemp_roi[octemp_roi==0] = np.nan \n",
    "print(np.nanmin(octemp_roi), np.nanmax(octemp_roi))\n",
    "print(octemp_roi.shape)"
   ]
  },
  {
   "cell_type": "code",
   "execution_count": null,
   "metadata": {},
   "outputs": [],
   "source": [
    "# get mask defining liberal visual cortex ROI. \"nsdgeneral\" is a general ROI \n",
    "# that was manually drawn on fsaverage covering voxels responsive to the NSD experiment \n",
    "# in the posterior aspect of cortex. for the sake of simplicity we will focus \n",
    "# on voxels within this ROI in computing split-half reliability\n",
    "\n",
    "# get mean fMRI volume from run 1\n",
    "meanvol = np.squeeze(np.mean(run1.reshape(xyzt),axis=3))\n",
    "\n",
    "# plot ROI on top of overlay\n",
    "x=35\n",
    "plt.figure(figsize=(12,6))\n",
    "plt.imshow(meanvol[x,:,:],cmap='gray')\n",
    "plt.imshow(octemp_roi[x,:,:],cmap='Blues',clim=(0,2))\n",
    "\n",
    "plt.title('voxels in octemp ROI')\n",
    "#plt.box(False)\n",
    "#plt.axis(False);"
   ]
  },
  {
   "cell_type": "markdown",
   "metadata": {},
   "source": [
    "## Compute median split-half reliabilty within the ROI for each beta version"
   ]
  },
  {
   "cell_type": "code",
   "execution_count": null,
   "metadata": {},
   "outputs": [],
   "source": [
    "# finally, let's compute split-half reliability. we are going to loop\n",
    "# through our 4 models and calculate split-half reliability for each of them\n",
    "\n",
    "vox_reliabilities = [] # output variable for reliability values\n",
    "\n",
    "modelnames = list(models.keys())\n",
    "\n",
    "# for each beta version...\n",
    "for m in range(len(modelnames)):\n",
    "    \n",
    "    print(f'computing reliability for beta version: {modelnames[m]}')\n",
    "    time.sleep(1)\n",
    "    \n",
    "    # get the repeated-condition GLM betas using our repindices variable\n",
    "    betas = models[modelnames[m]][:,:,:,repindices] # automatically reshapes to (X x Y x Z x 2 x nConditions)\n",
    "    x,y,z = betas.shape[:3] \n",
    "    \n",
    "    rels = np.full((x,y,z),np.nan)\n",
    "    \n",
    "    # loop through voxels in the 3D volume...\n",
    "    for xx in tqdm(range(x)):\n",
    "        for yy in range(y):\n",
    "            for zz in range(z):\n",
    "                \n",
    "                # reliability at a given voxel is pearson correlation between response profiles from first and \n",
    "                # second image presentations (dim = 136 conditions)\n",
    "                rels[xx,yy,zz] = np.corrcoef(betas[xx,yy,zz,0],\n",
    "                                             betas[xx,yy,zz,1])[1,0]\n",
    "          \n",
    "    vox_reliabilities.append(rels)"
   ]
  },
  {
   "cell_type": "markdown",
   "metadata": {},
   "source": [
    "## Assess change in reliability yielded by GLMsingle"
   ]
  },
  {
   "cell_type": "code",
   "execution_count": null,
   "metadata": {},
   "outputs": [],
   "source": [
    "# for each GLM we will calculate median reliability for voxels within the\n",
    "# nsdgeneral visual ROI and compare using a bar graph\n",
    "\n",
    "comparison = []\n",
    "for vr in vox_reliabilities:\n",
    "    comparison.append(np.nanmedian(vr[octemp_roi==1]))\n",
    "\n",
    "plt.figure(figsize=(18,6))\n",
    "plt.subplot(121)\n",
    "plt.bar(np.arange(len(comparison)),comparison,width=0.5)\n",
    "plt.title('Median voxel split-half reliability of GLM models')\n",
    "plt.xticks(np.arange(4),np.array(['ASSUMEHRF', 'FITHRF', 'FITHRF\\nGLMDENOISE', 'FITHRF\\nGLMDENOISE\\nRR']));\n",
    "plt.ylim([0,0.5])\n",
    "\n",
    "# draw plot showing the change in reliability between the baseline GLM\n",
    "# and the final output of GLMsingle (fithrf-glmdenoise-RR betas)\n",
    "vox_improvement = np.squeeze(vox_reliabilities[3] - vox_reliabilities[0])\n",
    "vox_improvement[octemp_roi != 1] = np.nan\n",
    "\n",
    "plt.subplot(122)\n",
    "plt.imshow(meanvol[x,:,:],cmap='gray',aspect='auto')\n",
    "plt.imshow(vox_improvement[x,:,:],cmap='RdBu_r',clim=(-0.3,0.3),aspect='auto')\n",
    "plt.colorbar()\n",
    "plt.title('change in nsdgeneral voxel reliability**\\ndue to GLMsingle (r)')\n",
    "plt.xticks([])\n",
    "plt.yticks([])\n",
    "plt.xlabel('\\n**plotting (FITHRF_GLMDENOISE_RR - ASSUMEHRF) reliabilities');\n",
    "\n",
    "# notice that there is systematic increase in reliability moving from the\n",
    "# first to the second to the third to the final fourth version of the GLM\n",
    "# results. these increases reflect, respectively, the addition of HRF\n",
    "# fitting, the derivation and use of data-driven nuisance regressors, and\n",
    "# the use of ridge regression as a way to regularize the instability of\n",
    "# closely spaced experimental trials. depending on one's experimental\n",
    "# goals, it is possible with setting of option flags to activate a subset\n",
    "# of these analysis features.\n",
    "\n",
    "# also, keep in mind that in the above figure, we are simply showing the\n",
    "# median as a metric of the central tendency (you may want to peruse\n",
    "# individual voxels in scatter plots, for example)."
   ]
  },
  {
   "cell_type": "code",
   "execution_count": null,
   "metadata": {},
   "outputs": [],
   "source": [
    "comparison"
   ]
  },
  {
   "cell_type": "code",
   "execution_count": null,
   "metadata": {},
   "outputs": [],
   "source": []
  }
 ],
 "metadata": {
  "anaconda-cloud": {},
  "celltoolbar": "Edit Metadata",
  "kernelspec": {
   "display_name": "Python 3",
   "language": "python",
   "name": "python3"
  },
  "language_info": {
   "codemirror_mode": {
    "name": "ipython",
    "version": 3
   },
   "file_extension": ".py",
   "mimetype": "text/x-python",
   "name": "python",
   "nbconvert_exporter": "python",
   "pygments_lexer": "ipython3",
   "version": "3.6.8"
  }
 },
 "nbformat": 4,
 "nbformat_minor": 2
}
